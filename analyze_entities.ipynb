{
 "cells": [
  {
   "cell_type": "markdown",
   "metadata": {},
   "source": [
    "# Entities Analysis"
   ]
  },
  {
   "cell_type": "code",
   "execution_count": 1,
   "metadata": {},
   "outputs": [],
   "source": [
    "import pandas as pd\n",
    "import numpy as np"
   ]
  },
  {
   "cell_type": "code",
   "execution_count": 2,
   "metadata": {},
   "outputs": [],
   "source": [
    "REDIRECTS_FILEPATH = \"data/raw_data/redirects_lang=en.ttl\"\n",
    "REDIRECTS_TRANSITIVE_FILEPATH = \"data/raw_data/redirects_lang=en_transitive.ttl\"\n",
    "REMAINING_TRIPLES_FILEPATH = \"data/exported_data/remaining_triples.csv\"\n",
    "ENTITIES_SAMPLE_FILEPATH = \"data/exported_data/entities_sample.csv\"\n",
    "MW_PROPS_BS_FILEPATH = \"data/exported_data/mutual_wikilinks_properties_both_sides.csv\"\n",
    "MW_PROPS_OS_FILEPATH = \"data/exported_data/mutual_wikilinks_properties_one_side.csv\""
   ]
  },
  {
   "cell_type": "code",
   "execution_count": 3,
   "metadata": {},
   "outputs": [],
   "source": [
    "redirects = pd.read_csv(REDIRECTS_FILEPATH, sep=\" \", header=None, names=[\"subject\", \"predicate\", \"object\", \".\"])\n",
    "redirects = redirects.drop(columns=\".\")\n",
    "# remove \"<\" and \">\"\n",
    "for col in redirects.columns:\n",
    "    redirects[col] = redirects[col].str[1:-1]\n",
    "\n",
    "entities_sample = pd.read_csv(ENTITIES_SAMPLE_FILEPATH)\n",
    "\n",
    "mw_props = pd.concat((pd.read_csv(MW_PROPS_BS_FILEPATH), pd.read_csv(MW_PROPS_OS_FILEPATH)))\n",
    "\n",
    "remaining_triples = pd.read_csv(REMAINING_TRIPLES_FILEPATH)"
   ]
  },
  {
   "cell_type": "code",
   "execution_count": 4,
   "metadata": {},
   "outputs": [
    {
     "data": {
      "text/html": [
       "<div>\n",
       "<style scoped>\n",
       "    .dataframe tbody tr th:only-of-type {\n",
       "        vertical-align: middle;\n",
       "    }\n",
       "\n",
       "    .dataframe tbody tr th {\n",
       "        vertical-align: top;\n",
       "    }\n",
       "\n",
       "    .dataframe thead th {\n",
       "        text-align: right;\n",
       "    }\n",
       "</style>\n",
       "<table border=\"1\" class=\"dataframe\">\n",
       "  <thead>\n",
       "    <tr style=\"text-align: right;\">\n",
       "      <th></th>\n",
       "      <th>subject</th>\n",
       "      <th>predicate</th>\n",
       "      <th>object</th>\n",
       "    </tr>\n",
       "  </thead>\n",
       "  <tbody>\n",
       "    <tr>\n",
       "      <th>0</th>\n",
       "      <td>http://dbpedia.org/resource/!!!!!!!</td>\n",
       "      <td>http://dbpedia.org/ontology/wikiPageRedirects</td>\n",
       "      <td>http://dbpedia.org/resource/When_We_All_Fall_A...</td>\n",
       "    </tr>\n",
       "    <tr>\n",
       "      <th>1</th>\n",
       "      <td>http://dbpedia.org/resource/!!!Fuck_You!!!</td>\n",
       "      <td>http://dbpedia.org/ontology/wikiPageRedirects</td>\n",
       "      <td>http://dbpedia.org/resource/Fuck_You_(EP)</td>\n",
       "    </tr>\n",
       "    <tr>\n",
       "      <th>2</th>\n",
       "      <td>http://dbpedia.org/resource/!!!Fuck_You!!!_And...</td>\n",
       "      <td>http://dbpedia.org/ontology/wikiPageRedirects</td>\n",
       "      <td>http://dbpedia.org/resource/Fuck_You_and_Then_...</td>\n",
       "    </tr>\n",
       "    <tr>\n",
       "      <th>3</th>\n",
       "      <td>http://dbpedia.org/resource/!!!Fuck_You!!!_and...</td>\n",
       "      <td>http://dbpedia.org/ontology/wikiPageRedirects</td>\n",
       "      <td>http://dbpedia.org/resource/Fuck_You_and_Then_...</td>\n",
       "    </tr>\n",
       "    <tr>\n",
       "      <th>4</th>\n",
       "      <td>http://dbpedia.org/resource/!!!_(!!!_album)</td>\n",
       "      <td>http://dbpedia.org/ontology/wikiPageRedirects</td>\n",
       "      <td>http://dbpedia.org/resource/!!!_(album)</td>\n",
       "    </tr>\n",
       "  </tbody>\n",
       "</table>\n",
       "</div>"
      ],
      "text/plain": [
       "                                             subject  \\\n",
       "0                http://dbpedia.org/resource/!!!!!!!   \n",
       "1         http://dbpedia.org/resource/!!!Fuck_You!!!   \n",
       "2  http://dbpedia.org/resource/!!!Fuck_You!!!_And...   \n",
       "3  http://dbpedia.org/resource/!!!Fuck_You!!!_and...   \n",
       "4        http://dbpedia.org/resource/!!!_(!!!_album)   \n",
       "\n",
       "                                       predicate  \\\n",
       "0  http://dbpedia.org/ontology/wikiPageRedirects   \n",
       "1  http://dbpedia.org/ontology/wikiPageRedirects   \n",
       "2  http://dbpedia.org/ontology/wikiPageRedirects   \n",
       "3  http://dbpedia.org/ontology/wikiPageRedirects   \n",
       "4  http://dbpedia.org/ontology/wikiPageRedirects   \n",
       "\n",
       "                                              object  \n",
       "0  http://dbpedia.org/resource/When_We_All_Fall_A...  \n",
       "1          http://dbpedia.org/resource/Fuck_You_(EP)  \n",
       "2  http://dbpedia.org/resource/Fuck_You_and_Then_...  \n",
       "3  http://dbpedia.org/resource/Fuck_You_and_Then_...  \n",
       "4            http://dbpedia.org/resource/!!!_(album)  "
      ]
     },
     "execution_count": 4,
     "metadata": {},
     "output_type": "execute_result"
    }
   ],
   "source": [
    "redirects.head()"
   ]
  },
  {
   "cell_type": "code",
   "execution_count": 5,
   "metadata": {},
   "outputs": [
    {
     "data": {
      "text/html": [
       "<div>\n",
       "<style scoped>\n",
       "    .dataframe tbody tr th:only-of-type {\n",
       "        vertical-align: middle;\n",
       "    }\n",
       "\n",
       "    .dataframe tbody tr th {\n",
       "        vertical-align: top;\n",
       "    }\n",
       "\n",
       "    .dataframe thead th {\n",
       "        text-align: right;\n",
       "    }\n",
       "</style>\n",
       "<table border=\"1\" class=\"dataframe\">\n",
       "  <thead>\n",
       "    <tr style=\"text-align: right;\">\n",
       "      <th></th>\n",
       "      <th>subject</th>\n",
       "      <th>in_degree_wikilinks</th>\n",
       "      <th>out_degree_wikilinks</th>\n",
       "      <th>in_degree_all_except_wikilinks</th>\n",
       "      <th>out_degree_all_except_wikilinks</th>\n",
       "      <th>n_types</th>\n",
       "      <th>n_mutual_wikilinks</th>\n",
       "    </tr>\n",
       "  </thead>\n",
       "  <tbody>\n",
       "    <tr>\n",
       "      <th>0</th>\n",
       "      <td>http://dbpedia.org/resource/Tamarixia_actis</td>\n",
       "      <td>1.0</td>\n",
       "      <td>0.0</td>\n",
       "      <td>0.0</td>\n",
       "      <td>0.0</td>\n",
       "      <td>0</td>\n",
       "      <td>0.0</td>\n",
       "    </tr>\n",
       "    <tr>\n",
       "      <th>1</th>\n",
       "      <td>http://dbpedia.org/resource/Scott_Rothkopf</td>\n",
       "      <td>6.0</td>\n",
       "      <td>21.0</td>\n",
       "      <td>0.0</td>\n",
       "      <td>0.0</td>\n",
       "      <td>0</td>\n",
       "      <td>1.0</td>\n",
       "    </tr>\n",
       "    <tr>\n",
       "      <th>2</th>\n",
       "      <td>http://dbpedia.org/resource/Sanvidhan_Divas</td>\n",
       "      <td>0.0</td>\n",
       "      <td>1.0</td>\n",
       "      <td>0.0</td>\n",
       "      <td>0.0</td>\n",
       "      <td>0</td>\n",
       "      <td>0.0</td>\n",
       "    </tr>\n",
       "    <tr>\n",
       "      <th>3</th>\n",
       "      <td>http://dbpedia.org/resource/History_of_La_Harp...</td>\n",
       "      <td>0.0</td>\n",
       "      <td>1.0</td>\n",
       "      <td>0.0</td>\n",
       "      <td>0.0</td>\n",
       "      <td>0</td>\n",
       "      <td>0.0</td>\n",
       "    </tr>\n",
       "    <tr>\n",
       "      <th>4</th>\n",
       "      <td>http://dbpedia.org/resource/H17_(disambiguation)</td>\n",
       "      <td>0.0</td>\n",
       "      <td>1.0</td>\n",
       "      <td>0.0</td>\n",
       "      <td>0.0</td>\n",
       "      <td>0</td>\n",
       "      <td>0.0</td>\n",
       "    </tr>\n",
       "  </tbody>\n",
       "</table>\n",
       "</div>"
      ],
      "text/plain": [
       "                                             subject  in_degree_wikilinks  \\\n",
       "0        http://dbpedia.org/resource/Tamarixia_actis                  1.0   \n",
       "1         http://dbpedia.org/resource/Scott_Rothkopf                  6.0   \n",
       "2        http://dbpedia.org/resource/Sanvidhan_Divas                  0.0   \n",
       "3  http://dbpedia.org/resource/History_of_La_Harp...                  0.0   \n",
       "4   http://dbpedia.org/resource/H17_(disambiguation)                  0.0   \n",
       "\n",
       "   out_degree_wikilinks  in_degree_all_except_wikilinks  \\\n",
       "0                   0.0                             0.0   \n",
       "1                  21.0                             0.0   \n",
       "2                   1.0                             0.0   \n",
       "3                   1.0                             0.0   \n",
       "4                   1.0                             0.0   \n",
       "\n",
       "   out_degree_all_except_wikilinks  n_types  n_mutual_wikilinks  \n",
       "0                              0.0        0                 0.0  \n",
       "1                              0.0        0                 1.0  \n",
       "2                              0.0        0                 0.0  \n",
       "3                              0.0        0                 0.0  \n",
       "4                              0.0        0                 0.0  "
      ]
     },
     "execution_count": 5,
     "metadata": {},
     "output_type": "execute_result"
    }
   ],
   "source": [
    "entities_sample.head()"
   ]
  },
  {
   "cell_type": "code",
   "execution_count": 6,
   "metadata": {},
   "outputs": [
    {
     "data": {
      "text/html": [
       "<div>\n",
       "<style scoped>\n",
       "    .dataframe tbody tr th:only-of-type {\n",
       "        vertical-align: middle;\n",
       "    }\n",
       "\n",
       "    .dataframe tbody tr th {\n",
       "        vertical-align: top;\n",
       "    }\n",
       "\n",
       "    .dataframe thead th {\n",
       "        text-align: right;\n",
       "    }\n",
       "</style>\n",
       "<table border=\"1\" class=\"dataframe\">\n",
       "  <thead>\n",
       "    <tr style=\"text-align: right;\">\n",
       "      <th></th>\n",
       "      <th>subject</th>\n",
       "      <th>predicate</th>\n",
       "      <th>object</th>\n",
       "    </tr>\n",
       "  </thead>\n",
       "  <tbody>\n",
       "    <tr>\n",
       "      <th>0</th>\n",
       "      <td>http://dbpedia.org/resource/1910–11_Hibernian_...</td>\n",
       "      <td>http://dbpedia.org/ontology/team</td>\n",
       "      <td>http://dbpedia.org/resource/Hibernian_F.C.</td>\n",
       "    </tr>\n",
       "    <tr>\n",
       "      <th>1</th>\n",
       "      <td>http://dbpedia.org/resource/1910–11_Hibernian_...</td>\n",
       "      <td>http://dbpedia.org/ontology/position</td>\n",
       "      <td>http://dbpedia.org/resource/1910–11_Scottish_F...</td>\n",
       "    </tr>\n",
       "    <tr>\n",
       "      <th>2</th>\n",
       "      <td>http://dbpedia.org/resource/1910–11_Hibernian_...</td>\n",
       "      <td>http://dbpedia.org/ontology/league</td>\n",
       "      <td>http://dbpedia.org/resource/Scottish_First_Div...</td>\n",
       "    </tr>\n",
       "    <tr>\n",
       "      <th>3</th>\n",
       "      <td>http://dbpedia.org/resource/1910–11_Hibernian_...</td>\n",
       "      <td>http://dbpedia.org/ontology/manager</td>\n",
       "      <td>http://dbpedia.org/resource/Dan_McMichael</td>\n",
       "    </tr>\n",
       "    <tr>\n",
       "      <th>4</th>\n",
       "      <td>http://dbpedia.org/resource/10th_Minnesota_Inf...</td>\n",
       "      <td>http://dbpedia.org/ontology/country</td>\n",
       "      <td>http://dbpedia.org/resource/Union_(American_Ci...</td>\n",
       "    </tr>\n",
       "  </tbody>\n",
       "</table>\n",
       "</div>"
      ],
      "text/plain": [
       "                                             subject  \\\n",
       "0  http://dbpedia.org/resource/1910–11_Hibernian_...   \n",
       "1  http://dbpedia.org/resource/1910–11_Hibernian_...   \n",
       "2  http://dbpedia.org/resource/1910–11_Hibernian_...   \n",
       "3  http://dbpedia.org/resource/1910–11_Hibernian_...   \n",
       "4  http://dbpedia.org/resource/10th_Minnesota_Inf...   \n",
       "\n",
       "                              predicate  \\\n",
       "0      http://dbpedia.org/ontology/team   \n",
       "1  http://dbpedia.org/ontology/position   \n",
       "2    http://dbpedia.org/ontology/league   \n",
       "3   http://dbpedia.org/ontology/manager   \n",
       "4   http://dbpedia.org/ontology/country   \n",
       "\n",
       "                                              object  \n",
       "0         http://dbpedia.org/resource/Hibernian_F.C.  \n",
       "1  http://dbpedia.org/resource/1910–11_Scottish_F...  \n",
       "2  http://dbpedia.org/resource/Scottish_First_Div...  \n",
       "3          http://dbpedia.org/resource/Dan_McMichael  \n",
       "4  http://dbpedia.org/resource/Union_(American_Ci...  "
      ]
     },
     "execution_count": 6,
     "metadata": {},
     "output_type": "execute_result"
    }
   ],
   "source": [
    "remaining_triples.head()"
   ]
  },
  {
   "cell_type": "code",
   "execution_count": 7,
   "metadata": {},
   "outputs": [
    {
     "data": {
      "text/html": [
       "<div>\n",
       "<style scoped>\n",
       "    .dataframe tbody tr th:only-of-type {\n",
       "        vertical-align: middle;\n",
       "    }\n",
       "\n",
       "    .dataframe tbody tr th {\n",
       "        vertical-align: top;\n",
       "    }\n",
       "\n",
       "    .dataframe thead th {\n",
       "        text-align: right;\n",
       "    }\n",
       "</style>\n",
       "<table border=\"1\" class=\"dataframe\">\n",
       "  <thead>\n",
       "    <tr style=\"text-align: right;\">\n",
       "      <th></th>\n",
       "      <th>object</th>\n",
       "      <th>predicate</th>\n",
       "      <th>subject</th>\n",
       "    </tr>\n",
       "  </thead>\n",
       "  <tbody>\n",
       "    <tr>\n",
       "      <th>0</th>\n",
       "      <td>http://dbpedia.org/resource/1911–12_Hibernian_...</td>\n",
       "      <td>http://dbpedia.org/ontology/predecessor</td>\n",
       "      <td>http://dbpedia.org/resource/1910–11_Hibernian_...</td>\n",
       "    </tr>\n",
       "    <tr>\n",
       "      <th>1</th>\n",
       "      <td>http://dbpedia.org/resource/1909–10_Hibernian_...</td>\n",
       "      <td>http://dbpedia.org/ontology/successor</td>\n",
       "      <td>http://dbpedia.org/resource/1910–11_Hibernian_...</td>\n",
       "    </tr>\n",
       "    <tr>\n",
       "      <th>2</th>\n",
       "      <td>http://dbpedia.org/resource/Natural_Disaster_(...</td>\n",
       "      <td>http://dbpedia.org/ontology/subsequentWork</td>\n",
       "      <td>http://dbpedia.org/resource/1,_2,_3,_4_(Plain_...</td>\n",
       "    </tr>\n",
       "    <tr>\n",
       "      <th>3</th>\n",
       "      <td>http://dbpedia.org/resource/Rhythm_of_Love_(Pl...</td>\n",
       "      <td>http://dbpedia.org/ontology/previousWork</td>\n",
       "      <td>http://dbpedia.org/resource/1,_2,_3,_4_(Plain_...</td>\n",
       "    </tr>\n",
       "    <tr>\n",
       "      <th>4</th>\n",
       "      <td>http://dbpedia.org/resource/1908_FA_Cup_Final</td>\n",
       "      <td>http://dbpedia.org/ontology/followingEvent</td>\n",
       "      <td>http://dbpedia.org/resource/1909_FA_Cup_Final</td>\n",
       "    </tr>\n",
       "  </tbody>\n",
       "</table>\n",
       "</div>"
      ],
      "text/plain": [
       "                                              object  \\\n",
       "0  http://dbpedia.org/resource/1911–12_Hibernian_...   \n",
       "1  http://dbpedia.org/resource/1909–10_Hibernian_...   \n",
       "2  http://dbpedia.org/resource/Natural_Disaster_(...   \n",
       "3  http://dbpedia.org/resource/Rhythm_of_Love_(Pl...   \n",
       "4      http://dbpedia.org/resource/1908_FA_Cup_Final   \n",
       "\n",
       "                                    predicate  \\\n",
       "0     http://dbpedia.org/ontology/predecessor   \n",
       "1       http://dbpedia.org/ontology/successor   \n",
       "2  http://dbpedia.org/ontology/subsequentWork   \n",
       "3    http://dbpedia.org/ontology/previousWork   \n",
       "4  http://dbpedia.org/ontology/followingEvent   \n",
       "\n",
       "                                             subject  \n",
       "0  http://dbpedia.org/resource/1910–11_Hibernian_...  \n",
       "1  http://dbpedia.org/resource/1910–11_Hibernian_...  \n",
       "2  http://dbpedia.org/resource/1,_2,_3,_4_(Plain_...  \n",
       "3  http://dbpedia.org/resource/1,_2,_3,_4_(Plain_...  \n",
       "4      http://dbpedia.org/resource/1909_FA_Cup_Final  "
      ]
     },
     "execution_count": 7,
     "metadata": {},
     "output_type": "execute_result"
    }
   ],
   "source": [
    "mw_props.head()"
   ]
  },
  {
   "cell_type": "markdown",
   "metadata": {},
   "source": [
    "There are more triples in the graph than Wikipedia pages in the English Wikipedia. Reasons for that are:\n",
    "\n",
    "- File and Category Entities\n",
    "- Entities outside of DBpedia (and thus outside of Wikipedia) like linked homepages\n",
    "- Redirected Wikipedia pages\n",
    "- Placeholder Wikipedia pages (pages that are linked, but don't contain anything yet)\n",
    "- Career Stations\n",
    "- Entities similar to career stations"
   ]
  },
  {
   "cell_type": "markdown",
   "metadata": {},
   "source": [
    "## Examples of File and Category Entities\n",
    "\n",
    "File and Category Entities can be recognized by their URI which starts with `http://dbpedia.org/resource/File:` or `http://dbpedia.org/resource/Category:`."
   ]
  },
  {
   "cell_type": "code",
   "execution_count": 8,
   "metadata": {},
   "outputs": [
    {
     "name": "stdout",
     "output_type": "stream",
     "text": [
      "- http://dbpedia.org/resource/File:STAS_Spencer_Smythe.jpg\n",
      "- http://dbpedia.org/resource/File:Twikker_1995.jpg\n",
      "- http://dbpedia.org/resource/File:Nagaoka_Athletic_Stadium.jpg\n",
      "- http://dbpedia.org/resource/File:Freydal_02.jpg\n",
      "- http://dbpedia.org/resource/File:Matilde_Pretel2.png\n",
      "- http://dbpedia.org/resource/File:Hinged_Door.png\n",
      "- http://dbpedia.org/resource/File:(Mrs._Josefa_R._(del_Valle)_Forster,_Ignacio_del_Valle,_Jr.,_Mrs._Ysabel_(de_Valle)_Cram,_Reginaldo_F._del_Valle,_and_Ulpiano_F._del_Valle)_(12911554543).jpg\n",
      "- http://dbpedia.org/resource/File:Southern_Methodist_vs._North_Texas_football_2018_03_(Green_Brigade_Marching_Band).jpg\n",
      "- http://dbpedia.org/resource/File:Диплом_о_среднем_профобразовании._Россия._2021_год.jpg\n",
      "- http://dbpedia.org/resource/File:102007-USC-ND-shtd.jpg\n"
     ]
    }
   ],
   "source": [
    "# file entities\n",
    "entities_sample[\"file\"] = entities_sample[\"subject\"].str[:33] == \"http://dbpedia.org/resource/File:\"\n",
    "for val in entities_sample[entities_sample[\"file\"] == True][\"subject\"].sample(10, random_state=42):\n",
    "    print(f\"- {val}\")"
   ]
  },
  {
   "cell_type": "code",
   "execution_count": 9,
   "metadata": {},
   "outputs": [
    {
     "name": "stdout",
     "output_type": "stream",
     "text": [
      "- http://dbpedia.org/resource/Category:Buildings_and_structures_in_Washington_County,_New_York\n",
      "- http://dbpedia.org/resource/Category:Ubon_United_F.C._players\n",
      "- http://dbpedia.org/resource/Category:Members_of_the_Supreme_Soviet_of_the_Russian_Soviet_Federative_Socialist_Republic,_1947–1951\n",
      "- http://dbpedia.org/resource/Category:1604_in_the_British_Empire\n",
      "- http://dbpedia.org/resource/Category:Trotskyist_organisations_in_Italy\n",
      "- http://dbpedia.org/resource/Category:Research_at_the_University_of_Montana\n",
      "- http://dbpedia.org/resource/Category:Breton_bishops\n",
      "- http://dbpedia.org/resource/Category:Iranian_television_shows\n",
      "- http://dbpedia.org/resource/Category:2021–22_Basketball_Champions_League\n",
      "- http://dbpedia.org/resource/Category:Macedonian_expatriates_in_the_United_States\n"
     ]
    }
   ],
   "source": [
    "# category entities\n",
    "entities_sample[\"category\"] = entities_sample[\"subject\"].str[:37] == \"http://dbpedia.org/resource/Category:\"\n",
    "for val in entities_sample[entities_sample[\"category\"] == True][\"subject\"].sample(10, random_state=42):\n",
    "    print(f\"- {val}\")"
   ]
  },
  {
   "cell_type": "markdown",
   "metadata": {},
   "source": [
    "## Examples of Entities Outside of DBpedia\n",
    "\n",
    "Entities outside of DBpedia can also be recognized by their URI which does not start with `http://dbpedia.org/resource/`."
   ]
  },
  {
   "cell_type": "code",
   "execution_count": 10,
   "metadata": {},
   "outputs": [
    {
     "name": "stdout",
     "output_type": "stream",
     "text": [
      "- http://www.genoa-il.com\n",
      "- http://www.city.fujisawa.kanagawa.jp/hospital/index.html\n",
      "- http://www.eastboston.com/\n",
      "- https://www.bahnhof.de/bahnhof-de/Dortmund-Derne-1033478\n",
      "- http://www.penny.de\n",
      "- http://www.bahnhof.de/bahnhof-de/Zeulenroda_unt_Bf\n",
      "- https://cbvrce.ca/rv/\n",
      "- http://vi.potsdam.ny.us/content\n",
      "- http://www.tekever.com/\n",
      "- https://www.iheart.com/live/q1041-1625/\n"
     ]
    }
   ],
   "source": [
    "# entities outside of DBpedia\n",
    "entities_sample[\"outside\"] = entities_sample[\"subject\"].str[:28] != \"http://dbpedia.org/resource/\"\n",
    "for val in entities_sample[entities_sample[\"outside\"] == True][\"subject\"].sample(10, random_state=42):\n",
    "    print(f\"- {val}\")"
   ]
  },
  {
   "cell_type": "markdown",
   "metadata": {},
   "source": [
    "## Examples of Redirected Wikipedia Pages\n",
    "\n",
    "Redirected URIs are listed in the redirections dataset."
   ]
  },
  {
   "cell_type": "code",
   "execution_count": 11,
   "metadata": {},
   "outputs": [
    {
     "name": "stdout",
     "output_type": "stream",
     "text": [
      "- http://dbpedia.org/resource/Brazilian_legislative_election,_1958\n",
      "- http://dbpedia.org/resource/Philadelphia_Athletic_Club\n",
      "- http://dbpedia.org/resource/1998–99_Carlisle_United_F._C._season\n",
      "- http://dbpedia.org/resource/Harpers_(disambiguation)\n",
      "- http://dbpedia.org/resource/Sir_John_Wriothesley_Russell\n",
      "- http://dbpedia.org/resource/Bombay(film)\n",
      "- http://dbpedia.org/resource/Maanasthambam\n",
      "- http://dbpedia.org/resource/For_Esmé_—_with_Love_and_Squalor\n",
      "- http://dbpedia.org/resource/Extended_Tektronix_HEX_Format\n",
      "- http://dbpedia.org/resource/Heywood_&_Royton\n"
     ]
    }
   ],
   "source": [
    "# redirected entities\n",
    "redirects[\"redirected\"] = True\n",
    "entities_sample = entities_sample.merge(redirects[[\"subject\", \"redirected\"]], on=\"subject\", how=\"left\")\n",
    "entities_sample[\"redirected\"] = entities_sample[\"redirected\"].fillna(False)\n",
    "for val in entities_sample[entities_sample[\"redirected\"] == True][\"subject\"].sample(10, random_state=42):\n",
    "    print(f\"- {val}\")"
   ]
  },
  {
   "cell_type": "markdown",
   "metadata": {},
   "source": [
    "## Examples of Placeholder Wikipedia Pages\n",
    "\n",
    "Placeholder pages can not be recognized by their URI, but they only seem to contain incoming Wikilinks as properties connecting them to other entities in the DBpedia knowledge graph. On the Wikipedia page corresponding to the entity that linked the placeholder page entity there is at least one link to the placeholder page (indicated by the red lettering). The link to the placeholder page can be followed, but there is no content except for a text explaining that the Wikipedia page does not exist yet. A lot of these placeholder pages seem to correspond to plant or animal subspecies.\n",
    "\n",
    "- http://dbpedia.org/resource/Tamarixia_actis\n",
    "- http://dbpedia.org/resource/Pietra_Groana\n",
    "- http://dbpedia.org/resource/Sphagnum_triporosum\n",
    "- http://dbpedia.org/resource/Bay_cardinalfish\n",
    "- http://dbpedia.org/resource/ʼM\n",
    "- http://dbpedia.org/resource/Victor_Kremidas\n",
    "- http://dbpedia.org/resource/Ozarba_rougeoti\n",
    "- http://dbpedia.org/resource/Reichenbachia_hirsuta\n",
    "- http://dbpedia.org/resource/Janusz_Warmiński\n",
    "- http://dbpedia.org/resource/Glen_Allred"
   ]
  },
  {
   "cell_type": "code",
   "execution_count": 12,
   "metadata": {},
   "outputs": [],
   "source": [
    "#entities_sample[entities_sample[[\"file\", \"category\", \"outside\", \"redirected\"]].sum(axis=1) == 0].head(50)[\"subject\"]"
   ]
  },
  {
   "cell_type": "markdown",
   "metadata": {},
   "source": [
    "## Examples of Career Stations\n",
    "\n",
    "Career station entities can be recognized by their URI which contains the substring `__CareerStation__`."
   ]
  },
  {
   "cell_type": "code",
   "execution_count": 13,
   "metadata": {},
   "outputs": [
    {
     "name": "stdout",
     "output_type": "stream",
     "text": [
      "- http://dbpedia.org/resource/David_Thompson_(footballer,_born_1962)__CareerStation__3\n",
      "- http://dbpedia.org/resource/Gylfi_Sigurðsson__CareerStation__10\n",
      "- http://dbpedia.org/resource/Julie_Ertz__CareerStation__4\n",
      "- http://dbpedia.org/resource/Sergio_Torres_(footballer,_born_1984)__CareerStation__19\n",
      "- http://dbpedia.org/resource/Vasco_Varão__CareerStation__15\n",
      "- http://dbpedia.org/resource/Tommy_Cain__CareerStation__3\n",
      "- http://dbpedia.org/resource/Eugenio_Pizzuto__CareerStation__3\n",
      "- http://dbpedia.org/resource/Mohammed_Tabra__CareerStation__4\n",
      "- http://dbpedia.org/resource/Ángel_Morales__Ángel_Morales__1__CareerStation__11\n",
      "- http://dbpedia.org/resource/Andrea_Mei__CareerStation__2\n"
     ]
    }
   ],
   "source": [
    "# career station entities\n",
    "entities_sample[\"career_station\"] = entities_sample[\"subject\"].str.contains(\"__CareerStation__\")\n",
    "for val in entities_sample[entities_sample[\"career_station\"]][\"subject\"].sample(10, random_state=42):\n",
    "    print(f\"- {val}\")"
   ]
  },
  {
   "cell_type": "markdown",
   "metadata": {},
   "source": [
    "## Entities Similar to Career Stations\n",
    "\n",
    "There are other entities that are similar to career stations. For example there are entities with the type military service which connect a person and time period to counties or battles. Next to that, there are other entities with similar constructs which are not easily recognized by their URI. They seem to contain double underscores in their URI but there does not seem to be a guaranty that these items do not actually correspond to a \"normal\" entity. The examples below are mixed and some entities are just \"normal\" entities with double underscores in their URI."
   ]
  },
  {
   "cell_type": "code",
   "execution_count": 14,
   "metadata": {},
   "outputs": [
    {
     "name": "stdout",
     "output_type": "stream",
     "text": [
      "- http://dbpedia.org/resource/Omar_Bongo__MilitaryService__1\n",
      "- http://dbpedia.org/resource/BMW_B47__D20__7\n",
      "- http://dbpedia.org/resource/Hitomi_discography__Title__1\n",
      "- http://dbpedia.org/resource/1998–99_Celtic_F.C._season__Phil_O'Donnell__1\n",
      "- http://dbpedia.org/resource/John_D._Vanderhoof__MilitaryService__1\n",
      "- http://dbpedia.org/resource/San_Diego_Sockers_(2009)__Mitchell_Cardenas__1\n",
      "- http://dbpedia.org/resource/George_Forbes,_3rd_Earl_of_Granard__Tenure__1\n",
      "- http://dbpedia.org/resource/Modafen_F.K.__Muhammed_Sura_Cetin__1\n",
      "- http://dbpedia.org/resource/María_Sánchez_(footballer)__María_Sánchez__1\n",
      "- http://dbpedia.org/resource/Henry_Salwey__Tenure__1\n"
     ]
    }
   ],
   "source": [
    "for val in entities_sample[(entities_sample[\"subject\"].str.contains(\"__\")) & ~(entities_sample[\"subject\"].str.contains(\"__CareerStation__\"))][\"subject\"].sample(10, random_state=42):\n",
    "    print(f\"- {val}\")"
   ]
  },
  {
   "cell_type": "markdown",
   "metadata": {},
   "source": [
    "## Summary"
   ]
  },
  {
   "cell_type": "code",
   "execution_count": 15,
   "metadata": {},
   "outputs": [
    {
     "data": {
      "text/plain": [
       "file              0.09886\n",
       "category          0.04854\n",
       "outside           0.01242\n",
       "redirected        0.32218\n",
       "career_station    0.05302\n",
       "dtype: float64"
      ]
     },
     "execution_count": 15,
     "metadata": {},
     "output_type": "execute_result"
    }
   ],
   "source": [
    "entities_sample[[\"file\", \"category\", \"outside\", \"redirected\", \"career_station\"]].sum() / len(entities_sample)"
   ]
  },
  {
   "cell_type": "markdown",
   "metadata": {},
   "source": [
    "## Relevance to the Training Data"
   ]
  },
  {
   "cell_type": "code",
   "execution_count": 16,
   "metadata": {},
   "outputs": [],
   "source": [
    "mw_entities = pd.DataFrame({\"entity\": np.union1d(mw_props[\"subject\"].unique(), mw_props[\"object\"].unique())})\n",
    "remaining_triples_entities = pd.DataFrame({\"entity\": np.union1d(remaining_triples[\"subject\"].unique(), remaining_triples[\"object\"].unique())})"
   ]
  },
  {
   "cell_type": "code",
   "execution_count": 17,
   "metadata": {},
   "outputs": [],
   "source": [
    "# file entities\n",
    "mw_entities[\"file\"] = mw_entities[\"entity\"].str[:33] == \"http://dbpedia.org/resource/File:\"\n",
    "remaining_triples_entities[\"file\"] = remaining_triples_entities[\"entity\"].str[:33] == \"http://dbpedia.org/resource/File:\"\n",
    "\n",
    "# category entities\n",
    "mw_entities[\"category\"] = mw_entities[\"entity\"].str[:37] == \"http://dbpedia.org/resource/Category:\"\n",
    "remaining_triples_entities[\"category\"] = remaining_triples_entities[\"entity\"].str[:37] == \"http://dbpedia.org/resource/Category:\"\n",
    "\n",
    "# entities outside of DBpedia\n",
    "mw_entities[\"outside\"] = mw_entities[\"entity\"].str[:28] != \"http://dbpedia.org/resource/\"\n",
    "remaining_triples_entities[\"outside\"] = remaining_triples_entities[\"entity\"].str[:28] != \"http://dbpedia.org/resource/\"\n",
    "\n",
    "# redirected entities\n",
    "redirects[\"redirected\"] = True\n",
    "mw_entities = mw_entities.merge(redirects[[\"subject\", \"redirected\"]], left_on=\"entity\", right_on=\"subject\", how=\"left\")\n",
    "mw_entities = mw_entities.drop(columns=\"subject\")\n",
    "mw_entities[\"redirected\"] = mw_entities[\"redirected\"].fillna(False)\n",
    "remaining_triples_entities = remaining_triples_entities.merge(redirects[[\"subject\", \"redirected\"]], left_on=\"entity\", right_on=\"subject\", how=\"left\")\n",
    "remaining_triples_entities = remaining_triples_entities.drop(columns=\"subject\")\n",
    "remaining_triples_entities[\"redirected\"] = remaining_triples_entities[\"redirected\"].fillna(False)\n",
    "\n",
    "# career station entities\n",
    "mw_entities[\"career_station\"] = mw_entities[\"entity\"].str.contains(\"__CareerStation__\")\n",
    "remaining_triples_entities[\"career_station\"] = remaining_triples_entities[\"entity\"].str.contains(\"__CareerStation__\")"
   ]
  },
  {
   "cell_type": "code",
   "execution_count": 18,
   "metadata": {},
   "outputs": [
    {
     "data": {
      "text/plain": [
       "file              0.000000\n",
       "category          0.000000\n",
       "outside           0.000000\n",
       "redirected        0.003405\n",
       "career_station    0.000000\n",
       "dtype: float64"
      ]
     },
     "execution_count": 18,
     "metadata": {},
     "output_type": "execute_result"
    }
   ],
   "source": [
    "mw_entities[[\"file\", \"category\", \"outside\", \"redirected\", \"career_station\"]].sum() / len(mw_entities)"
   ]
  },
  {
   "cell_type": "code",
   "execution_count": 19,
   "metadata": {},
   "outputs": [
    {
     "data": {
      "text/plain": [
       "file              0.000000\n",
       "category          0.000000\n",
       "outside           0.049170\n",
       "redirected        0.049152\n",
       "career_station    0.221722\n",
       "dtype: float64"
      ]
     },
     "execution_count": 19,
     "metadata": {},
     "output_type": "execute_result"
    }
   ],
   "source": [
    "remaining_triples_entities[[\"file\", \"category\", \"outside\", \"redirected\", \"career_station\"]].sum() / len(remaining_triples_entities)"
   ]
  }
 ],
 "metadata": {
  "kernelspec": {
   "display_name": "Python 3 (ipykernel)",
   "language": "python",
   "name": "python3"
  },
  "language_info": {
   "codemirror_mode": {
    "name": "ipython",
    "version": 3
   },
   "file_extension": ".py",
   "mimetype": "text/x-python",
   "name": "python",
   "nbconvert_exporter": "python",
   "pygments_lexer": "ipython3",
   "version": "3.9.16"
  }
 },
 "nbformat": 4,
 "nbformat_minor": 4
}
