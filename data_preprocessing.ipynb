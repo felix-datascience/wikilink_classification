{
 "cells": [
  {
   "cell_type": "markdown",
   "metadata": {},
   "source": [
    "# Data Preprocessing\n",
    "\n",
    "This notebook performs and documents the data preprocessing. The final results are a training, validation and testing dataset that can be used for training models in the next stage."
   ]
  },
  {
   "cell_type": "code",
   "execution_count": null,
   "metadata": {},
   "outputs": [],
   "source": [
    "import os\n",
    "import shutil\n",
    "from data_preprocessing_utility import filter_triples_by_uri, fix_redirections, filter_properties, filter_entities, split_dataset, concat_files"
   ]
  },
  {
   "cell_type": "code",
   "execution_count": null,
   "metadata": {},
   "outputs": [],
   "source": [
    "# file paths to the initial unprocessed files\n",
    "FILEPATH_MW_BS = \"data/exported_data/mutual_wikilinks_properties_both_sides.csv\"\n",
    "FILEPATH_MW_OS = \"data/exported_data/mutual_wikilinks_properties_one_side.csv\"\n",
    "FILEPATH_MW_NO_PROPS = \"data/exported_data/mutual_wikilinks_no_properties.csv\"\n",
    "FILEPATH_REMAINING_TRIPLES = \"data/exported_data/remaining_triples.csv\"\n",
    "FILEPATH_TYPES = \"data/raw_data/instance-types_inference=transitive_lang=en.ttl\"\n",
    "\n",
    "# file path of the file containing the filtered subset of property types\n",
    "FILEPATH_FILTERED_PROP_TYPES = \"data/processed_data/filtered_property_types.csv\"\n",
    "\n",
    "# file path of the file containing redirections of entities\n",
    "FILEPATH_REDIRECTIONS = \"data/raw_data/redirects_inference=transitive_lang=en.ttl\"\n",
    "\n",
    "# directory where the final processed train, validation and testing files are saved\n",
    "RESULTS_DIR_FILEPATH = \"data/processed_data/\"\n",
    "if not os.path.isdir(RESULTS_DIR_FILEPATH):\n",
    "    os.mkdir(RESULTS_DIR_FILEPATH)\n",
    "\n",
    "# create temporary directory for saving intermediate results\n",
    "# this directory including the files containing intermediate results will be deleted after the proprocessing is done\n",
    "TEMP_DIR_FILEPATH = \"data/temp/\"\n",
    "if not os.path.isdir(TEMP_DIR_FILEPATH):\n",
    "    os.mkdir(TEMP_DIR_FILEPATH)"
   ]
  },
  {
   "cell_type": "markdown",
   "metadata": {},
   "source": [
    "## Remove Triples With Entities Outside of DBpedia"
   ]
  },
  {
   "cell_type": "code",
   "execution_count": null,
   "metadata": {},
   "outputs": [],
   "source": [
    "# remove triples with entities outside of DBpedia from remaining triples dataset\n",
    "filter_triples_by_uri(\n",
    "    dataset_filepath=FILEPATH_REMAINING_TRIPLES,\n",
    "    processed_dataset_filepath=TEMP_DIR_FILEPATH+\"remaining_triples_no_outside.csv\",\n",
    "    uri_substring=\"http://dbpedia.org/resource/\"\n",
    ")"
   ]
  },
  {
   "cell_type": "markdown",
   "metadata": {},
   "source": [
    "## Remove Career Stations"
   ]
  },
  {
   "cell_type": "code",
   "execution_count": null,
   "metadata": {},
   "outputs": [],
   "source": [
    "# remove triples with career stations from remaining triples dataset\n",
    "filter_triples_by_uri(\n",
    "    dataset_filepath=TEMP_DIR_FILEPATH+\"remaining_triples_no_outside.csv\",\n",
    "    processed_dataset_filepath=TEMP_DIR_FILEPATH+\"remaining_triples_no_cs.csv\",\n",
    "    uri_substring=\"__CareerStation__\",\n",
    "    positive_match=False\n",
    ")"
   ]
  },
  {
   "cell_type": "markdown",
   "metadata": {},
   "source": [
    "## Fix Redirections"
   ]
  },
  {
   "cell_type": "code",
   "execution_count": null,
   "metadata": {},
   "outputs": [],
   "source": [
    "# fix redirections for entities in the dataset of mutually wikilinked pairs with both-sided properties\n",
    "fix_redirections(\n",
    "    dataset_filepath=FILEPATH_MW_BS,\n",
    "    redirections_filepath=FILEPATH_REDIRECTIONS,\n",
    "    processed_dataset_filepath=TEMP_DIR_FILEPATH+\"mw_bs_fixed_redirects.csv\",\n",
    "    redirections_filetype=\"ttl\"\n",
    ")"
   ]
  },
  {
   "cell_type": "code",
   "execution_count": null,
   "metadata": {},
   "outputs": [],
   "source": [
    "# fix redirections for entities in the dataset of mutually wikilinked pairs with one-sided properties\n",
    "fix_redirections(\n",
    "    dataset_filepath=FILEPATH_MW_OS,\n",
    "    redirections_filepath=FILEPATH_REDIRECTIONS,\n",
    "    processed_dataset_filepath=TEMP_DIR_FILEPATH+\"mw_os_fixed_redirects.csv\",\n",
    "    redirections_filetype=\"ttl\"\n",
    ")"
   ]
  },
  {
   "cell_type": "code",
   "execution_count": null,
   "metadata": {},
   "outputs": [],
   "source": [
    "# fix redirections for entities in the dataset of mutually wikilinked pairs without connecting properties\n",
    "fix_redirections(\n",
    "    dataset_filepath=FILEPATH_MW_NO_PROPS,\n",
    "    redirections_filepath=FILEPATH_REDIRECTIONS,\n",
    "    processed_dataset_filepath=TEMP_DIR_FILEPATH+\"mw_no_props_fixed_redirects.csv\",\n",
    "    redirections_filetype=\"ttl\"\n",
    ")"
   ]
  },
  {
   "cell_type": "code",
   "execution_count": null,
   "metadata": {},
   "outputs": [],
   "source": [
    "# fix redirections for entities in the dataset of remaining triples\n",
    "fix_redirections(\n",
    "    dataset_filepath=TEMP_DIR_FILEPATH+\"remaining_triples_no_cs.csv\",\n",
    "    redirections_filepath=FILEPATH_REDIRECTIONS,\n",
    "    processed_dataset_filepath=TEMP_DIR_FILEPATH+\"remaining_triples_fixed_redirects.csv\",\n",
    "    redirections_filetype=\"ttl\"\n",
    ")"
   ]
  },
  {
   "cell_type": "code",
   "execution_count": null,
   "metadata": {},
   "outputs": [],
   "source": [
    "# fix redirections for entities in the types dataset\n",
    "fix_redirections(\n",
    "    dataset_filepath=FILEPATH_TYPES,\n",
    "    redirections_filepath=FILEPATH_REDIRECTIONS,\n",
    "    processed_dataset_filepath=TEMP_DIR_FILEPATH+\"types_fixed_redirects.csv\",\n",
    "    subjects_only=True,\n",
    "    dataset_filetype=\"ttl\",\n",
    "    redirections_filetype=\"ttl\"\n",
    ")"
   ]
  },
  {
   "cell_type": "markdown",
   "metadata": {},
   "source": [
    "## Filter Properties\n",
    "\n",
    "To reduce the number of properties that have to be considered in the embedding creation and relation prediction, the property types are reduced. The dataset of filtered property types is not created in this notebook but in a separate notebook. The resulting file containing the filtered property definitons is used here to remove any property in the datasets that is not in this list. The datasets that are filtered are the datasets containing properties that connect mutually wikilinked entity pairs (one-sided and both-sided properties) and the dataset containing remaining triples (which excludes the connecting properties of mutually wikilinked pairs now)."
   ]
  },
  {
   "cell_type": "code",
   "execution_count": null,
   "metadata": {},
   "outputs": [],
   "source": [
    "# filter properties of the mutual wikilinks with both-sided properties dataset\n",
    "filter_properties(\n",
    "    properties_dataset_filepath=TEMP_DIR_FILEPATH+\"mw_bs_fixed_redirects.csv\",\n",
    "    filtered_property_types_filepath=FILEPATH_FILTERED_PROP_TYPES,\n",
    "    processed_dataset_filepath=TEMP_DIR_FILEPATH+\"filtered_props_mw_bs.csv\"\n",
    ")"
   ]
  },
  {
   "cell_type": "code",
   "execution_count": null,
   "metadata": {},
   "outputs": [],
   "source": [
    "# filter properties of the mutual wikilinks with one-sided properties dataset\n",
    "filter_properties(\n",
    "    properties_dataset_filepath=TEMP_DIR_FILEPATH+\"mw_os_fixed_redirects.csv\",\n",
    "    filtered_property_types_filepath=FILEPATH_FILTERED_PROP_TYPES,\n",
    "    processed_dataset_filepath=TEMP_DIR_FILEPATH+\"filtered_props_mw_os.csv\"\n",
    ")"
   ]
  },
  {
   "cell_type": "code",
   "execution_count": null,
   "metadata": {},
   "outputs": [],
   "source": [
    "# filter properties of the remaining triples dataset\n",
    "filter_properties(\n",
    "    properties_dataset_filepath=TEMP_DIR_FILEPATH+\"remaining_triples_fixed_redirects.csv\",\n",
    "    filtered_property_types_filepath=FILEPATH_FILTERED_PROP_TYPES,\n",
    "    processed_dataset_filepath=TEMP_DIR_FILEPATH+\"filtered_props_remaining_triples.csv\"\n",
    ")"
   ]
  },
  {
   "cell_type": "markdown",
   "metadata": {},
   "source": [
    "## Filter Entities\n",
    "\n",
    "Not all entities that appear in the datasets containing properties that connect mutually wikilinked entity pairs are also available in the dataset containing the other remaining triples. The goal of this master thesis is to classify relations between mutually wikilinked entity pairs that are already integrated in the graph and are not unknown. This is also reflected in the models that are choosen to predict the relation / property types between a pair of entities. The models that are used to create the knowledge graph embeddings need to have information on other triples in which an entity appears (transductive link prediction). For that reason any pair containing an entity that is not part of the remaining triples dataset is removed from the datasets containing connecting properties of mutually wikilinked entities. Futhermore, entity pairs in the dataset of mutually wikilinked entities without any connecting properties are filtered to only contain pairs where both entities appear in the remaining triples dataset.\n",
    "\n",
    "The same filtering is applied on the entity types dataset, to reduce it to type information on entities that are part of the remaining triples dataset."
   ]
  },
  {
   "cell_type": "code",
   "execution_count": null,
   "metadata": {},
   "outputs": [],
   "source": [
    "# filter enitities of the mutual wikilinks with both-sided properties dataset\n",
    "filter_entities(\n",
    "    dataset_filepath=TEMP_DIR_FILEPATH+\"filtered_props_mw_bs.csv\",\n",
    "    entities_dataset_filepath=TEMP_DIR_FILEPATH+\"filtered_props_remaining_triples.csv\",\n",
    "    processed_dataset_filepath=TEMP_DIR_FILEPATH+\"filtered_entities_mw_bs.csv\",\n",
    "    filter_subject_only=False,\n",
    ")"
   ]
  },
  {
   "cell_type": "code",
   "execution_count": null,
   "metadata": {},
   "outputs": [],
   "source": [
    "# filter enitities of the mutual wikilinks with one-sided properties dataset\n",
    "filter_entities(\n",
    "    dataset_filepath=TEMP_DIR_FILEPATH+\"filtered_props_mw_os.csv\",\n",
    "    entities_dataset_filepath=TEMP_DIR_FILEPATH+\"filtered_props_remaining_triples.csv\",\n",
    "    processed_dataset_filepath=TEMP_DIR_FILEPATH+\"filtered_entities_mw_os.csv\",\n",
    "    filter_subject_only=False,\n",
    ")"
   ]
  },
  {
   "cell_type": "code",
   "execution_count": null,
   "metadata": {},
   "outputs": [],
   "source": [
    "# filter enitities of the mutual wikilinks without connecting properties dataset\n",
    "filter_entities(\n",
    "    dataset_filepath=TEMP_DIR_FILEPATH+\"mw_no_props_fixed_redirects.csv\",\n",
    "    entities_dataset_filepath=TEMP_DIR_FILEPATH+\"filtered_props_remaining_triples.csv\",\n",
    "    processed_dataset_filepath=RESULTS_DIR_FILEPATH+\"mw_no_props.csv\",\n",
    "    filter_subject_only=False,\n",
    ")"
   ]
  },
  {
   "cell_type": "code",
   "execution_count": null,
   "metadata": {},
   "outputs": [],
   "source": [
    "# filter enitities of the types dataset\n",
    "filter_entities(\n",
    "    dataset_filepath=TEMP_DIR_FILEPATH+\"types_fixed_redirects.csv\",\n",
    "    entities_dataset_filepath=TEMP_DIR_FILEPATH+\"filtered_props_remaining_triples.csv\",\n",
    "    processed_dataset_filepath=TEMP_DIR_FILEPATH+\"filtered_entities_types.csv\",\n",
    "    filter_subject_only=True,\n",
    ")"
   ]
  },
  {
   "cell_type": "markdown",
   "metadata": {},
   "source": [
    "## Create Training, Validation and Testing Datasets\n",
    "\n",
    "To train, validate model settings and test the overall performance the datasets containing connecting properties of mutually wikilinked entities is split into a training, validation and testing set. The data is split so that entity pairs only appear in one of the splits. Individual entities can still appear in more than one split which again reflects the setting of the master thesis in which entities are not completely unknown but the relations between mutually wikilinked pairs are not all classified.\n",
    "\n",
    "After splitting the datasets containing connecting properties between mutually wikilinked properties, the respective splits with both- and one-sided properties are combined. Furthermore the remaining triples and entity types datasets are added to the training set of connecting properties of mutually wikilinked entities to obtain the final training set."
   ]
  },
  {
   "cell_type": "code",
   "execution_count": null,
   "metadata": {},
   "outputs": [],
   "source": [
    "# split dataset containing both-sided properties of mutual wikilinks into train, val and test set\n",
    "split_dataset(\n",
    "    dataset_filepath=TEMP_DIR_FILEPATH+\"filtered_entities_mw_bs.csv\",\n",
    "    trainset_filepath=TEMP_DIR_FILEPATH+\"train_mw_bs.csv\",\n",
    "    valset_filepath=TEMP_DIR_FILEPATH+\"val_mw_bs.csv\",\n",
    "    testset_filepath=TEMP_DIR_FILEPATH+\"test_mw_bs.csv\",\n",
    "    val_test_fraction=5,\n",
    "    random_state=42\n",
    ")                            "
   ]
  },
  {
   "cell_type": "code",
   "execution_count": null,
   "metadata": {},
   "outputs": [],
   "source": [
    "# split dataset containing one-sided properties of mutual wikilinks into train, val and test set\n",
    "split_dataset(\n",
    "    dataset_filepath=TEMP_DIR_FILEPATH+\"filtered_entities_mw_os.csv\",\n",
    "    trainset_filepath=TEMP_DIR_FILEPATH+\"train_mw_os.csv\",\n",
    "    valset_filepath=TEMP_DIR_FILEPATH+\"val_mw_os.csv\",\n",
    "    testset_filepath=TEMP_DIR_FILEPATH+\"test_mw_os.csv\",\n",
    "    val_test_fraction=5,\n",
    "    random_state=42\n",
    ")                            "
   ]
  },
  {
   "cell_type": "code",
   "execution_count": null,
   "metadata": {},
   "outputs": [],
   "source": [
    "# final training set\n",
    "# concatenate training splits of mutual wikilinked entities with both- and one-sided properties, remaining triples and types\n",
    "concat_files(\n",
    "    filepaths=[\n",
    "        TEMP_DIR_FILEPATH+\"filtered_props_remaining_triples.csv\",\n",
    "        TEMP_DIR_FILEPATH+\"filtered_entities_types.csv\",\n",
    "        TEMP_DIR_FILEPATH+\"train_mw_bs.csv\",\n",
    "        TEMP_DIR_FILEPATH+\"train_mw_os.csv\"\n",
    "    ],\n",
    "    filetypes=[\"csv\", \"csv\", \"csv\", \"csv\"],\n",
    "    processed_dataset_filepath=RESULTS_DIR_FILEPATH+\"train_w_types.tsv\"\n",
    ")\n",
    "# also create a training set without types\n",
    "concat_files(\n",
    "    filepaths=[\n",
    "        TEMP_DIR_FILEPATH+\"filtered_props_remaining_triples.csv\",\n",
    "        TEMP_DIR_FILEPATH+\"train_mw_bs.csv\",\n",
    "        TEMP_DIR_FILEPATH+\"train_mw_os.csv\"\n",
    "    ],\n",
    "    filetypes=[\"csv\", \"csv\", \"csv\"],\n",
    "    processed_dataset_filepath=RESULTS_DIR_FILEPATH+\"train.tsv\"\n",
    ")"
   ]
  },
  {
   "cell_type": "code",
   "execution_count": null,
   "metadata": {},
   "outputs": [],
   "source": [
    "# final validation set\n",
    "# concatenate validation splits of mutual wikilinked entities with both- and one-sided properties\n",
    "concat_files(\n",
    "    filepaths=[\n",
    "        TEMP_DIR_FILEPATH+\"val_mw_bs.csv\",\n",
    "        TEMP_DIR_FILEPATH+\"val_mw_os.csv\"\n",
    "    ],\n",
    "    filetypes=[\"csv\", \"csv\"],\n",
    "    processed_dataset_filepath=RESULTS_DIR_FILEPATH+\"val.tsv\"\n",
    ")"
   ]
  },
  {
   "cell_type": "code",
   "execution_count": null,
   "metadata": {},
   "outputs": [],
   "source": [
    "# final testing set\n",
    "# concatenate testing splits of mutual wikilinked entities with both- and one-sided properties\n",
    "concat_files(\n",
    "    filepaths=[\n",
    "        TEMP_DIR_FILEPATH+\"test_mw_bs.csv\",\n",
    "        TEMP_DIR_FILEPATH+\"test_mw_os.csv\"\n",
    "    ],\n",
    "    filetypes=[\"csv\", \"csv\"],\n",
    "    processed_dataset_filepath=RESULTS_DIR_FILEPATH+\"test.tsv\"\n",
    ")"
   ]
  },
  {
   "cell_type": "code",
   "execution_count": null,
   "metadata": {},
   "outputs": [],
   "source": [
    "# remove temporary directory and all temporary files inside\n",
    "shutil.rmtree(TEMP_DIR_FILEPATH)"
   ]
  }
 ],
 "metadata": {
  "kernelspec": {
   "display_name": "base",
   "language": "python",
   "name": "python3"
  },
  "language_info": {
   "codemirror_mode": {
    "name": "ipython",
    "version": 3
   },
   "file_extension": ".py",
   "mimetype": "text/x-python",
   "name": "python",
   "nbconvert_exporter": "python",
   "pygments_lexer": "ipython3",
   "version": "3.9.undefined"
  }
 },
 "nbformat": 4,
 "nbformat_minor": 2
}
