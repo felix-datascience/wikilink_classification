{
 "cells": [
  {
   "cell_type": "markdown",
   "metadata": {},
   "source": [
    "# Data Preprocessing\n",
    "\n",
    "This notebook performs and documents the data preprocessing. The final results are a training, validation and testing dataset that can be used for training models in the next stage."
   ]
  },
  {
   "cell_type": "code",
   "execution_count": 1,
   "metadata": {},
   "outputs": [],
   "source": [
    "import os\n",
    "import shutil\n",
    "import pandas as pd\n",
    "from data_preprocessing_utility import filter_triples_by_uri, fix_redirections, filter_properties, filter_entities, split_dataset, concat_files"
   ]
  },
  {
   "cell_type": "code",
   "execution_count": 2,
   "metadata": {},
   "outputs": [],
   "source": [
    "# file paths to the initial unprocessed files\n",
    "FILEPATH_MW_BS = \"data/exported_data/mutual_wikilinks_properties_both_sides.csv\"\n",
    "FILEPATH_MW_OS = \"data/exported_data/mutual_wikilinks_properties_one_side.csv\"\n",
    "FILEPATH_MW_NO_PROPS = \"data/exported_data/mutual_wikilinks_no_properties.csv\"\n",
    "FILEPATH_REMAINING_TRIPLES = \"data/exported_data/remaining_triples.csv\"\n",
    "FILEPATH_TYPES = \"data/raw_data/instance-types_inference=transitive_lang=en.ttl\"\n",
    "\n",
    "# file path of the file containing the filtered subset of property types\n",
    "FILEPATH_FILTERED_PROP_TYPES = \"data/processed_data/filtered_property_types.csv\"\n",
    "\n",
    "# file path of the file containing redirections of entities\n",
    "FILEPATH_REDIRECTIONS = \"data/raw_data/redirects_inference=transitive_lang=en.ttl\"\n",
    "\n",
    "# directory where the final processed train, validation and testing files are saved\n",
    "RESULTS_DIR_FILEPATH = \"data/processed_data/\"\n",
    "if not os.path.isdir(RESULTS_DIR_FILEPATH):\n",
    "    os.mkdir(RESULTS_DIR_FILEPATH)\n",
    "\n",
    "# create temporary directory for saving intermediate results\n",
    "# this directory including the files containing intermediate results will be deleted after the proprocessing is done\n",
    "TEMP_DIR_FILEPATH = \"data/temp/\"\n",
    "if not os.path.isdir(TEMP_DIR_FILEPATH):\n",
    "    os.mkdir(TEMP_DIR_FILEPATH)"
   ]
  },
  {
   "cell_type": "markdown",
   "metadata": {},
   "source": [
    "## Remove Triples With Entities Outside of DBpedia"
   ]
  },
  {
   "cell_type": "code",
   "execution_count": 3,
   "metadata": {},
   "outputs": [
    {
     "name": "stdout",
     "output_type": "stream",
     "text": [
      "filter dataset (chunk 1)...\n",
      "filter dataset (chunk 2)...\n",
      "filter dataset (chunk 3)...\n",
      "filter dataset (chunk 4)...\n",
      "filter dataset (chunk 5)...\n",
      "filter dataset (chunk 6)...\n",
      "filter dataset (chunk 7)...\n",
      "filter dataset (chunk 8)...\n",
      "filter dataset (chunk 9)...\n",
      "filter dataset (chunk 10)...\n",
      "\n",
      "number of triples\n",
      "before filtering\tafter filtering\n",
      "19248430\t\t18851467 (0.979)\n"
     ]
    }
   ],
   "source": [
    "# remove triples with entities outside of DBpedia from remaining triples dataset\n",
    "filter_triples_by_uri(\n",
    "    dataset_filepath=FILEPATH_REMAINING_TRIPLES,\n",
    "    processed_dataset_filepath=TEMP_DIR_FILEPATH+\"remaining_triples_no_outside.csv\",\n",
    "    uri_substring=\"http://dbpedia.org/resource/\"\n",
    ")"
   ]
  },
  {
   "cell_type": "markdown",
   "metadata": {},
   "source": [
    "## Remove Career Stations"
   ]
  },
  {
   "cell_type": "code",
   "execution_count": 4,
   "metadata": {},
   "outputs": [
    {
     "name": "stdout",
     "output_type": "stream",
     "text": [
      "filter dataset (chunk 1)...\n",
      "filter dataset (chunk 2)...\n",
      "filter dataset (chunk 3)...\n",
      "filter dataset (chunk 4)...\n",
      "filter dataset (chunk 5)...\n",
      "filter dataset (chunk 6)...\n",
      "filter dataset (chunk 7)...\n",
      "filter dataset (chunk 8)...\n",
      "filter dataset (chunk 9)...\n",
      "filter dataset (chunk 10)...\n",
      "\n",
      "number of triples\n",
      "before filtering\tafter filtering\n",
      "18851467\t\t15471964 (0.821)\n"
     ]
    }
   ],
   "source": [
    "# remove triples with career stations from remaining triples dataset\n",
    "filter_triples_by_uri(\n",
    "    dataset_filepath=TEMP_DIR_FILEPATH+\"remaining_triples_no_outside.csv\",\n",
    "    processed_dataset_filepath=TEMP_DIR_FILEPATH+\"remaining_triples_no_cs.csv\",\n",
    "    uri_substring=\"__CareerStation__\",\n",
    "    positive_match=False\n",
    ")"
   ]
  },
  {
   "cell_type": "markdown",
   "metadata": {},
   "source": [
    "## Fix Redirections"
   ]
  },
  {
   "cell_type": "code",
   "execution_count": 5,
   "metadata": {},
   "outputs": [
    {
     "name": "stdout",
     "output_type": "stream",
     "text": [
      "fix redirections (chunk 1)...\n",
      "\n",
      "number of triples with redirected subject: 7 (0.0)\n",
      "number of triples with redirected object: 7 (0.0)\n"
     ]
    }
   ],
   "source": [
    "# fix redirections for entities in the dataset of mutually wikilinked pairs with both-sided properties\n",
    "fix_redirections(\n",
    "    dataset_filepath=FILEPATH_MW_BS,\n",
    "    redirections_filepath=FILEPATH_REDIRECTIONS,\n",
    "    processed_dataset_filepath=TEMP_DIR_FILEPATH+\"mw_bs_fixed_redirects.csv\",\n",
    "    redirections_filetype=\"ttl\"\n",
    ")"
   ]
  },
  {
   "cell_type": "code",
   "execution_count": 6,
   "metadata": {},
   "outputs": [
    {
     "name": "stdout",
     "output_type": "stream",
     "text": [
      "fix redirections (chunk 1)...\n",
      "fix redirections (chunk 2)...\n",
      "\n",
      "number of triples with redirected subject: 21 (0.0)\n",
      "number of triples with redirected object: 7556 (0.003)\n"
     ]
    }
   ],
   "source": [
    "# fix redirections for entities in the dataset of mutually wikilinked pairs with one-sided properties\n",
    "fix_redirections(\n",
    "    dataset_filepath=FILEPATH_MW_OS,\n",
    "    redirections_filepath=FILEPATH_REDIRECTIONS,\n",
    "    processed_dataset_filepath=TEMP_DIR_FILEPATH+\"mw_os_fixed_redirects.csv\",\n",
    "    redirections_filetype=\"ttl\"\n",
    ")"
   ]
  },
  {
   "cell_type": "code",
   "execution_count": 7,
   "metadata": {},
   "outputs": [
    {
     "name": "stderr",
     "output_type": "stream",
     "text": [
      "/pfs/data5/home/ma/ma_ma/ma_fvogl/wikilink_classification/data_preprocessing_utility.py:274: ParserWarning: Falling back to the 'python' engine because the 'c' engine does not support regex separators (separators > 1 char and different from '\\s+' are interpreted as regex); you can avoid this warning by specifying engine='python'.\n",
      "  for i, chunk in enumerate(pd.read_csv(dataset_filepath, chunksize=chunksize, **dataset_file_parsing_args)):\n"
     ]
    },
    {
     "name": "stdout",
     "output_type": "stream",
     "text": [
      "fix redirections (chunk 1)...\n",
      "fix redirections (chunk 2)...\n",
      "fix redirections (chunk 3)...\n",
      "fix redirections (chunk 4)...\n",
      "fix redirections (chunk 5)...\n",
      "fix redirections (chunk 6)...\n",
      "fix redirections (chunk 7)...\n",
      "fix redirections (chunk 8)...\n",
      "fix redirections (chunk 9)...\n",
      "fix redirections (chunk 10)...\n",
      "fix redirections (chunk 11)...\n",
      "fix redirections (chunk 12)...\n",
      "fix redirections (chunk 13)...\n",
      "\n",
      "number of triples with redirected subject: 90946 (0.004)\n",
      "number of triples with redirected object: 90946 (0.004)\n"
     ]
    }
   ],
   "source": [
    "# fix redirections for entities in the dataset of mutually wikilinked pairs without connecting properties\n",
    "fix_redirections(\n",
    "    dataset_filepath=FILEPATH_MW_NO_PROPS,\n",
    "    redirections_filepath=FILEPATH_REDIRECTIONS,\n",
    "    processed_dataset_filepath=TEMP_DIR_FILEPATH+\"mw_no_props_fixed_redirects.csv\",\n",
    "    redirections_filetype=\"ttl\"\n",
    ")"
   ]
  },
  {
   "cell_type": "code",
   "execution_count": 8,
   "metadata": {},
   "outputs": [
    {
     "name": "stdout",
     "output_type": "stream",
     "text": [
      "fix redirections (chunk 1)...\n",
      "fix redirections (chunk 2)...\n",
      "fix redirections (chunk 3)...\n",
      "fix redirections (chunk 4)...\n",
      "fix redirections (chunk 5)...\n",
      "fix redirections (chunk 6)...\n",
      "fix redirections (chunk 7)...\n",
      "fix redirections (chunk 8)...\n",
      "\n",
      "number of triples with redirected subject: 468 (0.0)\n",
      "number of triples with redirected object: 2270907 (0.147)\n"
     ]
    }
   ],
   "source": [
    "# fix redirections for entities in the dataset of remaining triples\n",
    "fix_redirections(\n",
    "    dataset_filepath=TEMP_DIR_FILEPATH+\"remaining_triples_no_cs.csv\",\n",
    "    redirections_filepath=FILEPATH_REDIRECTIONS,\n",
    "    processed_dataset_filepath=TEMP_DIR_FILEPATH+\"remaining_triples_fixed_redirects.csv\",\n",
    "    redirections_filetype=\"ttl\"\n",
    ")"
   ]
  },
  {
   "cell_type": "code",
   "execution_count": 9,
   "metadata": {},
   "outputs": [
    {
     "name": "stdout",
     "output_type": "stream",
     "text": [
      "fix redirections (chunk 1)...\n",
      "fix redirections (chunk 2)...\n",
      "fix redirections (chunk 3)...\n",
      "fix redirections (chunk 4)...\n",
      "fix redirections (chunk 5)...\n",
      "fix redirections (chunk 6)...\n",
      "fix redirections (chunk 7)...\n",
      "fix redirections (chunk 8)...\n",
      "fix redirections (chunk 9)...\n",
      "fix redirections (chunk 10)...\n",
      "fix redirections (chunk 11)...\n",
      "fix redirections (chunk 12)...\n",
      "fix redirections (chunk 13)...\n",
      "fix redirections (chunk 14)...\n",
      "fix redirections (chunk 15)...\n",
      "fix redirections (chunk 16)...\n",
      "fix redirections (chunk 17)...\n",
      "fix redirections (chunk 18)...\n",
      "fix redirections (chunk 19)...\n",
      "fix redirections (chunk 20)...\n",
      "fix redirections (chunk 21)...\n",
      "fix redirections (chunk 22)...\n",
      "fix redirections (chunk 23)...\n",
      "\n",
      "number of triples with redirected subject: 875 (0.0)\n"
     ]
    }
   ],
   "source": [
    "# fix redirections for entities in the types dataset\n",
    "fix_redirections(\n",
    "    dataset_filepath=FILEPATH_TYPES,\n",
    "    redirections_filepath=FILEPATH_REDIRECTIONS,\n",
    "    processed_dataset_filepath=TEMP_DIR_FILEPATH+\"types_fixed_redirects.csv\",\n",
    "    subjects_only=True,\n",
    "    dataset_filetype=\"ttl\",\n",
    "    redirections_filetype=\"ttl\"\n",
    ")"
   ]
  },
  {
   "cell_type": "markdown",
   "metadata": {},
   "source": [
    "## Filter Properties\n",
    "\n",
    "To reduce the number of properties that have to be considered in the embedding creation and relation prediction, the property types are reduced. The dataset of filtered property types is not created in this notebook but in a separate notebook. The resulting file containing the filtered property definitons is used here to remove any property in the datasets that is not in this list. The datasets that are filtered are the datasets containing properties that connect mutually wikilinked entity pairs (one-sided and both-sided properties) and the dataset containing remaining triples (which excludes the connecting properties of mutually wikilinked pairs now)."
   ]
  },
  {
   "cell_type": "code",
   "execution_count": 10,
   "metadata": {},
   "outputs": [
    {
     "name": "stdout",
     "output_type": "stream",
     "text": [
      "processing chunk 1...\n",
      "\n",
      "number of triples\n",
      "before filtering\tafter filtering\n",
      "610991\t\t608057 (0.995)\n"
     ]
    }
   ],
   "source": [
    "# filter properties of the mutual wikilinks with both-sided properties dataset\n",
    "filter_properties(\n",
    "    properties_dataset_filepath=TEMP_DIR_FILEPATH+\"mw_bs_fixed_redirects.csv\",\n",
    "    filtered_property_types_filepath=FILEPATH_FILTERED_PROP_TYPES,\n",
    "    processed_dataset_filepath=TEMP_DIR_FILEPATH+\"filtered_props_mw_bs.csv\"\n",
    ")"
   ]
  },
  {
   "cell_type": "code",
   "execution_count": 11,
   "metadata": {},
   "outputs": [
    {
     "name": "stdout",
     "output_type": "stream",
     "text": [
      "processing chunk 1...\n",
      "processing chunk 2...\n",
      "\n",
      "number of triples\n",
      "before filtering\tafter filtering\n",
      "2931750\t\t2907011 (0.992)\n"
     ]
    }
   ],
   "source": [
    "# filter properties of the mutual wikilinks with one-sided properties dataset\n",
    "filter_properties(\n",
    "    properties_dataset_filepath=TEMP_DIR_FILEPATH+\"mw_os_fixed_redirects.csv\",\n",
    "    filtered_property_types_filepath=FILEPATH_FILTERED_PROP_TYPES,\n",
    "    processed_dataset_filepath=TEMP_DIR_FILEPATH+\"filtered_props_mw_os.csv\"\n",
    ")"
   ]
  },
  {
   "cell_type": "code",
   "execution_count": 12,
   "metadata": {},
   "outputs": [
    {
     "name": "stdout",
     "output_type": "stream",
     "text": [
      "processing chunk 1...\n",
      "processing chunk 2...\n",
      "processing chunk 3...\n",
      "processing chunk 4...\n",
      "processing chunk 5...\n",
      "processing chunk 6...\n",
      "processing chunk 7...\n",
      "processing chunk 8...\n",
      "\n",
      "number of triples\n",
      "before filtering\tafter filtering\n",
      "15471964\t\t13788589 (0.891)\n"
     ]
    }
   ],
   "source": [
    "# filter properties of the remaining triples dataset\n",
    "filter_properties(\n",
    "    properties_dataset_filepath=TEMP_DIR_FILEPATH+\"remaining_triples_fixed_redirects.csv\",\n",
    "    filtered_property_types_filepath=FILEPATH_FILTERED_PROP_TYPES,\n",
    "    processed_dataset_filepath=TEMP_DIR_FILEPATH+\"filtered_props_remaining_triples.csv\"\n",
    ")"
   ]
  },
  {
   "cell_type": "markdown",
   "metadata": {},
   "source": [
    "## Filter Entities\n",
    "\n",
    "Not all entities that appear in the datasets containing properties that connect mutually wikilinked entity pairs are also available in the dataset containing the other remaining triples. The goal of this master thesis is to classify relations between mutually wikilinked entity pairs that are already integrated in the graph and are not unknown. This is also reflected in the models that are choosen to predict the relation / property types between a pair of entities. The models that are used to create the knowledge graph embeddings need to have information on other triples in which an entity appears (transductive link prediction). For that reason any pair containing an entity that is not part of the remaining triples dataset is removed from the datasets containing connecting properties of mutually wikilinked entities. Futhermore, entity pairs in the dataset of mutually wikilinked entities without any connecting properties are filtered to only contain pairs where both entities appear in the remaining triples dataset.\n",
    "\n",
    "The same filtering is applied on the entity types dataset, to reduce it to type information on entities that are part of the remaining triples dataset."
   ]
  },
  {
   "cell_type": "code",
   "execution_count": 13,
   "metadata": {},
   "outputs": [
    {
     "name": "stdout",
     "output_type": "stream",
     "text": [
      "read entities dataset (chunk 1)...\n",
      "read entities dataset (chunk 2)...\n",
      "read entities dataset (chunk 3)...\n",
      "read entities dataset (chunk 4)...\n",
      "read entities dataset (chunk 5)...\n",
      "read entities dataset (chunk 6)...\n",
      "read entities dataset (chunk 7)...\n",
      "processing chunk 1...\n",
      "\n",
      "number of triples\n",
      "before filtering\tafter filtering\n",
      "608057\t\t545935 (0.898)\n"
     ]
    }
   ],
   "source": [
    "# filter enitities of the mutual wikilinks with both-sided properties dataset\n",
    "filter_entities(\n",
    "    dataset_filepath=TEMP_DIR_FILEPATH+\"filtered_props_mw_bs.csv\",\n",
    "    entities_dataset_filepath=TEMP_DIR_FILEPATH+\"filtered_props_remaining_triples.csv\",\n",
    "    processed_dataset_filepath=TEMP_DIR_FILEPATH+\"filtered_entities_mw_bs.csv\",\n",
    "    filter_subject_only=False,\n",
    ")"
   ]
  },
  {
   "cell_type": "code",
   "execution_count": 14,
   "metadata": {},
   "outputs": [
    {
     "name": "stdout",
     "output_type": "stream",
     "text": [
      "read entities dataset (chunk 1)...\n",
      "read entities dataset (chunk 2)...\n",
      "read entities dataset (chunk 3)...\n",
      "read entities dataset (chunk 4)...\n",
      "read entities dataset (chunk 5)...\n",
      "read entities dataset (chunk 6)...\n",
      "read entities dataset (chunk 7)...\n",
      "processing chunk 1...\n",
      "processing chunk 2...\n",
      "\n",
      "number of triples\n",
      "before filtering\tafter filtering\n",
      "2907011\t\t2540557 (0.874)\n"
     ]
    }
   ],
   "source": [
    "# filter enitities of the mutual wikilinks with one-sided properties dataset\n",
    "filter_entities(\n",
    "    dataset_filepath=TEMP_DIR_FILEPATH+\"filtered_props_mw_os.csv\",\n",
    "    entities_dataset_filepath=TEMP_DIR_FILEPATH+\"filtered_props_remaining_triples.csv\",\n",
    "    processed_dataset_filepath=TEMP_DIR_FILEPATH+\"filtered_entities_mw_os.csv\",\n",
    "    filter_subject_only=False,\n",
    ")"
   ]
  },
  {
   "cell_type": "code",
   "execution_count": 15,
   "metadata": {},
   "outputs": [
    {
     "name": "stdout",
     "output_type": "stream",
     "text": [
      "read entities dataset (chunk 1)...\n",
      "read entities dataset (chunk 2)...\n",
      "read entities dataset (chunk 3)...\n",
      "read entities dataset (chunk 4)...\n",
      "read entities dataset (chunk 5)...\n",
      "read entities dataset (chunk 6)...\n",
      "read entities dataset (chunk 7)...\n",
      "processing chunk 1...\n",
      "processing chunk 2...\n",
      "processing chunk 3...\n",
      "processing chunk 4...\n",
      "processing chunk 5...\n",
      "processing chunk 6...\n",
      "processing chunk 7...\n",
      "processing chunk 8...\n",
      "processing chunk 9...\n",
      "processing chunk 10...\n",
      "processing chunk 11...\n",
      "processing chunk 12...\n",
      "processing chunk 13...\n",
      "\n",
      "number of triples\n",
      "before filtering\tafter filtering\n",
      "24932490\t\t10105628 (0.405)\n"
     ]
    }
   ],
   "source": [
    "# filter enitities of the mutual wikilinks without connecting properties dataset\n",
    "filter_entities(\n",
    "    dataset_filepath=TEMP_DIR_FILEPATH+\"mw_no_props_fixed_redirects.csv\",\n",
    "    entities_dataset_filepath=TEMP_DIR_FILEPATH+\"filtered_props_remaining_triples.csv\",\n",
    "    processed_dataset_filepath=RESULTS_DIR_FILEPATH+\"mw_no_props.csv\",\n",
    "    filter_subject_only=False,\n",
    ")"
   ]
  },
  {
   "cell_type": "code",
   "execution_count": 16,
   "metadata": {},
   "outputs": [
    {
     "name": "stdout",
     "output_type": "stream",
     "text": [
      "read entities dataset (chunk 1)...\n",
      "read entities dataset (chunk 2)...\n",
      "read entities dataset (chunk 3)...\n",
      "read entities dataset (chunk 4)...\n",
      "read entities dataset (chunk 5)...\n",
      "read entities dataset (chunk 6)...\n",
      "read entities dataset (chunk 7)...\n",
      "processing chunk 1...\n",
      "processing chunk 2...\n",
      "processing chunk 3...\n",
      "processing chunk 4...\n",
      "processing chunk 5...\n",
      "processing chunk 6...\n",
      "processing chunk 7...\n",
      "processing chunk 8...\n",
      "processing chunk 9...\n",
      "processing chunk 10...\n",
      "processing chunk 11...\n",
      "processing chunk 12...\n",
      "processing chunk 13...\n",
      "processing chunk 14...\n",
      "processing chunk 15...\n",
      "processing chunk 16...\n",
      "processing chunk 17...\n",
      "processing chunk 18...\n",
      "processing chunk 19...\n",
      "processing chunk 20...\n",
      "processing chunk 21...\n",
      "processing chunk 22...\n",
      "processing chunk 23...\n",
      "\n",
      "number of triples\n",
      "before filtering\tafter filtering\n",
      "45948099\t\t34229484 (0.745)\n"
     ]
    }
   ],
   "source": [
    "# filter enitities of the types dataset\n",
    "filter_entities(\n",
    "    dataset_filepath=TEMP_DIR_FILEPATH+\"types_fixed_redirects.csv\",\n",
    "    entities_dataset_filepath=TEMP_DIR_FILEPATH+\"filtered_props_remaining_triples.csv\",\n",
    "    processed_dataset_filepath=TEMP_DIR_FILEPATH+\"filtered_entities_types.csv\",\n",
    "    filter_subject_only=True,\n",
    ")"
   ]
  },
  {
   "cell_type": "markdown",
   "metadata": {},
   "source": [
    "## Create Training, Validation and Testing Datasets\n",
    "\n",
    "To train, validate model settings and test the overall performance the datasets containing connecting properties of mutually wikilinked entities is split into a training, validation and testing set. The data is split so that entity pairs only appear in one of the splits. Individual entities can still appear in more than one split which again reflects the setting of the master thesis in which entities are not completely unknown but the relations between mutually wikilinked pairs are not all classified.\n",
    "\n",
    "After splitting the datasets containing connecting properties between mutually wikilinked properties, the respective splits with both- and one-sided properties are combined. Furthermore the remaining triples and entity types datasets are added to the training set of connecting properties of mutually wikilinked entities to obtain the final training set."
   ]
  },
  {
   "cell_type": "code",
   "execution_count": 17,
   "metadata": {},
   "outputs": [
    {
     "name": "stderr",
     "output_type": "stream",
     "text": [
      "/opt/bwhpc/common/jupyter/tensorflow/2023-10-10/lib/python3.9/site-packages/sklearn/model_selection/_split.py:950: UserWarning: The least populated class in y has only 1 members, which is less than n_splits=5.\n",
      "  warnings.warn(\n"
     ]
    },
    {
     "name": "stdout",
     "output_type": "stream",
     "text": [
      "\n",
      "number of triples\n",
      "training set\tvalidation set\ttesting set\n",
      "327706\t\t108942\t\t109287\n",
      "\n",
      "number of unique properties\n",
      "training set\tvalidation set\ttesting set\n",
      "275\t\t251\t\t252\n"
     ]
    }
   ],
   "source": [
    "# split dataset containing both-sided properties of mutual wikilinks into train, val and test set\n",
    "split_dataset(\n",
    "    dataset_filepath=TEMP_DIR_FILEPATH+\"filtered_entities_mw_bs.csv\",\n",
    "    trainset_filepath=TEMP_DIR_FILEPATH+\"train_mw_bs.csv\",\n",
    "    valset_filepath=TEMP_DIR_FILEPATH+\"val_mw_bs.csv\",\n",
    "    testset_filepath=TEMP_DIR_FILEPATH+\"test_mw_bs.csv\",\n",
    "    val_test_fraction=5,\n",
    "    random_state=42\n",
    ")                            "
   ]
  },
  {
   "cell_type": "code",
   "execution_count": 18,
   "metadata": {},
   "outputs": [
    {
     "name": "stderr",
     "output_type": "stream",
     "text": [
      "/opt/bwhpc/common/jupyter/tensorflow/2023-10-10/lib/python3.9/site-packages/sklearn/model_selection/_split.py:950: UserWarning: The least populated class in y has only 4 members, which is less than n_splits=5.\n",
      "  warnings.warn(\n"
     ]
    },
    {
     "name": "stdout",
     "output_type": "stream",
     "text": [
      "\n",
      "number of triples\n",
      "training set\tvalidation set\ttesting set\n",
      "1523978\t\t508350\t\t508229\n",
      "\n",
      "number of unique properties\n",
      "training set\tvalidation set\ttesting set\n",
      "305\t\t305\t\t305\n"
     ]
    }
   ],
   "source": [
    "# split dataset containing one-sided properties of mutual wikilinks into train, val and test set\n",
    "split_dataset(\n",
    "    dataset_filepath=TEMP_DIR_FILEPATH+\"filtered_entities_mw_os.csv\",\n",
    "    trainset_filepath=TEMP_DIR_FILEPATH+\"train_mw_os.csv\",\n",
    "    valset_filepath=TEMP_DIR_FILEPATH+\"val_mw_os.csv\",\n",
    "    testset_filepath=TEMP_DIR_FILEPATH+\"test_mw_os.csv\",\n",
    "    val_test_fraction=5,\n",
    "    random_state=42\n",
    ")                            "
   ]
  },
  {
   "cell_type": "code",
   "execution_count": 19,
   "metadata": {},
   "outputs": [
    {
     "name": "stdout",
     "output_type": "stream",
     "text": [
      "reading file 1\n",
      "\n",
      "chunk 1...\n",
      "\n",
      "chunk 2...\n",
      "\n",
      "chunk 3...\n",
      "\n",
      "chunk 4...\n",
      "\n",
      "chunk 5...\n",
      "\n",
      "chunk 6...\n",
      "\n",
      "chunk 7...\n",
      "reading file 2\n",
      "\n",
      "chunk 1...\n",
      "\n",
      "chunk 2...\n",
      "\n",
      "chunk 3...\n",
      "\n",
      "chunk 4...\n",
      "\n",
      "chunk 5...\n",
      "\n",
      "chunk 6...\n",
      "\n",
      "chunk 7...\n",
      "\n",
      "chunk 8...\n",
      "\n",
      "chunk 9...\n",
      "\n",
      "chunk 10...\n",
      "\n",
      "chunk 11...\n",
      "\n",
      "chunk 12...\n",
      "\n",
      "chunk 18...\n",
      "reading file 3\n",
      "\n",
      "chunk 1...\n",
      "reading file 4\n",
      "\n",
      "chunk 1...\n",
      "reading file 1\n",
      "\n",
      "chunk 1...\n",
      "\n",
      "chunk 2...\n",
      "\n",
      "chunk 3...\n",
      "\n",
      "chunk 4...\n",
      "\n",
      "chunk 5...\n",
      "\n",
      "chunk 6...\n",
      "\n",
      "chunk 7...\n",
      "reading file 2\n",
      "\n",
      "chunk 1...\n",
      "reading file 3\n",
      "\n",
      "chunk 1...\n"
     ]
    }
   ],
   "source": [
    "# final training set\n",
    "# concatenate training splits of mutual wikilinked entities with both- and one-sided properties, remaining triples and types\n",
    "concat_files(\n",
    "    filepaths=[\n",
    "        TEMP_DIR_FILEPATH+\"filtered_props_remaining_triples.csv\",\n",
    "        TEMP_DIR_FILEPATH+\"filtered_entities_types.csv\",\n",
    "        TEMP_DIR_FILEPATH+\"train_mw_bs.csv\",\n",
    "        TEMP_DIR_FILEPATH+\"train_mw_os.csv\"\n",
    "    ],\n",
    "    filetypes=[\"csv\", \"csv\", \"csv\", \"csv\"],\n",
    "    processed_dataset_filepath=RESULTS_DIR_FILEPATH+\"train_w_types.tsv\"\n",
    ")\n",
    "# also create a training set without types\n",
    "concat_files(\n",
    "    filepaths=[\n",
    "        TEMP_DIR_FILEPATH+\"filtered_props_remaining_triples.csv\",\n",
    "        TEMP_DIR_FILEPATH+\"train_mw_bs.csv\",\n",
    "        TEMP_DIR_FILEPATH+\"train_mw_os.csv\"\n",
    "    ],\n",
    "    filetypes=[\"csv\", \"csv\", \"csv\"],\n",
    "    processed_dataset_filepath=RESULTS_DIR_FILEPATH+\"train.tsv\"\n",
    ")"
   ]
  },
  {
   "cell_type": "code",
   "execution_count": 20,
   "metadata": {},
   "outputs": [
    {
     "name": "stdout",
     "output_type": "stream",
     "text": [
      "reading file 1\n",
      "\n",
      "chunk 1...\n",
      "reading file 2\n",
      "\n",
      "chunk 1...\n"
     ]
    }
   ],
   "source": [
    "# final validation set\n",
    "# concatenate validation splits of mutual wikilinked entities with both- and one-sided properties\n",
    "concat_files(\n",
    "    filepaths=[\n",
    "        TEMP_DIR_FILEPATH+\"val_mw_bs.csv\",\n",
    "        TEMP_DIR_FILEPATH+\"val_mw_os.csv\"\n",
    "    ],\n",
    "    filetypes=[\"csv\", \"csv\"],\n",
    "    processed_dataset_filepath=RESULTS_DIR_FILEPATH+\"val.tsv\"\n",
    ")"
   ]
  },
  {
   "cell_type": "code",
   "execution_count": 21,
   "metadata": {},
   "outputs": [
    {
     "name": "stdout",
     "output_type": "stream",
     "text": [
      "reading file 1\n",
      "\n",
      "chunk 1...\n",
      "reading file 2\n",
      "\n",
      "chunk 1...\n"
     ]
    }
   ],
   "source": [
    "# final testing set\n",
    "# concatenate testing splits of mutual wikilinked entities with both- and one-sided properties\n",
    "concat_files(\n",
    "    filepaths=[\n",
    "        TEMP_DIR_FILEPATH+\"test_mw_bs.csv\",\n",
    "        TEMP_DIR_FILEPATH+\"test_mw_os.csv\"\n",
    "    ],\n",
    "    filetypes=[\"csv\", \"csv\"],\n",
    "    processed_dataset_filepath=RESULTS_DIR_FILEPATH+\"test.tsv\"\n",
    ")"
   ]
  },
  {
   "cell_type": "code",
   "execution_count": 22,
   "metadata": {},
   "outputs": [],
   "source": [
    "# sample the datast of mutual wikilinked entities without properties\n",
    "# this sample is the unlabeled test dataset that will be manually evaluated\n",
    "mw_no_props = pd.read_csv(RESULTS_DIR_FILEPATH+\"mw_no_props.csv\")\n",
    "mw_no_props_sample = mw_no_props.sample(n=100, random_state=42)\n",
    "mw_no_props_sample.to_csv(RESULTS_DIR_FILEPATH+\"test_unlabeled.tsv\", sep=\"\\t\", index=False, header=False)"
   ]
  },
  {
   "cell_type": "code",
   "execution_count": 23,
   "metadata": {},
   "outputs": [],
   "source": [
    "# remove temporary directory and all temporary files inside\n",
    "shutil.rmtree(TEMP_DIR_FILEPATH)"
   ]
  }
 ],
 "metadata": {
  "kernelspec": {
   "display_name": "Python 3 (ipykernel)",
   "language": "python",
   "name": "python3"
  },
  "language_info": {
   "codemirror_mode": {
    "name": "ipython",
    "version": 3
   },
   "file_extension": ".py",
   "mimetype": "text/x-python",
   "name": "python",
   "nbconvert_exporter": "python",
   "pygments_lexer": "ipython3",
   "version": "3.9.16"
  }
 },
 "nbformat": 4,
 "nbformat_minor": 4
}
