{
 "cells": [
  {
   "cell_type": "markdown",
   "metadata": {},
   "source": [
    "# Data Preprocessing\n",
    "\n",
    "This notebook performs and documents the data preprocessing. The final results are a training, validation and testing dataset that can be used for training models in the next stage."
   ]
  },
  {
   "cell_type": "code",
   "execution_count": null,
   "metadata": {},
   "outputs": [],
   "source": [
    "import os\n",
    "import shutil\n",
    "import pandas as pd\n",
    "from data_preprocessing_utility import remove_entity_pairs, filter_properties, filter_entities, split_dataset, concat_files"
   ]
  },
  {
   "cell_type": "code",
   "execution_count": null,
   "metadata": {},
   "outputs": [],
   "source": [
    "# file paths to the initial unprocessed files\n",
    "filepath_mw_bs = \"data/exported_data/mutual_wikilinks_properties_both_sides.csv\"\n",
    "filepath_mw_os = \"data/exported_data/mutual_wikilinks_properties_one_side.csv\"\n",
    "filepath_mw_no_props = \"data/exported_data/mutual_wikilinks_no_properties.csv\"\n",
    "filepath_remaining_triples = \"data/raw_data/mappingbased-objects_lang=en.ttl\"\n",
    "filepath_types = \"data/raw_data/instance-types_inference=transitive_lang=en.ttl\"\n",
    "\n",
    "# file path of the file containing the filtered subset of property types\n",
    "filepath_filtered_prop_types = \"data/processed_data/filtered_property_types.csv\"\n",
    "\n",
    "# directory where the final processed train, validation and testing files are saved\n",
    "results_dir_filepath = \"data/processed_data/\"\n",
    "if not os.path.isdir(results_dir_filepath):\n",
    "    os.mkdir(results_dir_filepath)\n",
    "\n",
    "# create temporary directory for saving intermediate results\n",
    "# this directory including the files containing intermediate results will be deleted after the proprocessing is done\n",
    "temp_dir_filepath = \"data/temp/\"\n",
    "if not os.path.isdir(temp_dir_filepath):\n",
    "    os.mkdir(temp_dir_filepath)"
   ]
  },
  {
   "cell_type": "markdown",
   "metadata": {},
   "source": [
    "## Remove Entity Pairs that Appear in the Mutually Wikilinked Properties Dataset\n",
    "\n",
    "Entity pairs that appear in the mutually wikilinked properties datasets should be seperated from the remaining properties. The following code removes all triples of entity pairs that appear in the mutually wikilinked datasets from the dataset that contains all property definitions for entity pairs (except for wikilinks which are not part of this dataset and are not included here)."
   ]
  },
  {
   "cell_type": "code",
   "execution_count": null,
   "metadata": {},
   "outputs": [],
   "source": [
    "# remove entitiy pairs that appear in dataset of mutual wikilinks with both-sided properties\n",
    "remove_entity_pairs(\n",
    "    dataset_filepath=filepath_remaining_triples,\n",
    "    pairs_dataset_filepath=filepath_mw_bs,\n",
    "    processed_dataset_filepath=temp_dir_filepath+\"remaining_triples_no_mw_1.csv\",\n",
    "    dataset_filetype=\"ttl\",\n",
    ")"
   ]
  },
  {
   "cell_type": "code",
   "execution_count": null,
   "metadata": {},
   "outputs": [],
   "source": [
    "# remove entitiy pairs that appear in dataset of mutual wikilinks with one-sided properties\n",
    "remove_entity_pairs(\n",
    "    dataset_filepath=temp_dir_filepath+\"remaining_triples_no_mw_1.csv\",\n",
    "    pairs_dataset_filepath=filepath_mw_os,\n",
    "    processed_dataset_filepath=temp_dir_filepath+\"remaining_triples_no_mw_2.csv\",\n",
    ")"
   ]
  },
  {
   "cell_type": "markdown",
   "metadata": {},
   "source": [
    "## Filter Properties\n",
    "\n",
    "To reduce the number of properties that have to be considered in the embedding creation and relation prediction, the property types are reduced. The dataset of filtered property types is not created in this notebook but in a separate notebook. The resulting file containing the filtered property definitons is used here to remove any property in the datasets that is not in this list. The datasets that are filtered are the datasets containing properties that connect mutually wikilinked entity pairs (one-sided and both-sided properties) and the dataset containing remaining triples (which excludes the connecting properties of mutually wikilinked pairs now)."
   ]
  },
  {
   "cell_type": "code",
   "execution_count": null,
   "metadata": {},
   "outputs": [],
   "source": [
    "# filter properties of the mutual wikilinks with both-sided properties dataset\n",
    "filter_properties(\n",
    "    properties_dataset_filepath=filepath_mw_bs,\n",
    "    filtered_property_types_filepath=filepath_filtered_prop_types,\n",
    "    processed_dataset_filepath=temp_dir_filepath+\"filtered_props_mw_bs.csv\",\n",
    ")"
   ]
  },
  {
   "cell_type": "code",
   "execution_count": null,
   "metadata": {},
   "outputs": [],
   "source": [
    "# filter properties of the mutual wikilinks with one-sided properties dataset\n",
    "filter_properties(\n",
    "    properties_dataset_filepath=filepath_mw_os,\n",
    "    filtered_property_types_filepath=filepath_filtered_prop_types,\n",
    "    processed_dataset_filepath=temp_dir_filepath+\"filtered_props_mw_os.csv\",\n",
    ")"
   ]
  },
  {
   "cell_type": "code",
   "execution_count": null,
   "metadata": {},
   "outputs": [],
   "source": [
    "# filter properties of the remaining triples dataset\n",
    "filter_properties(\n",
    "    properties_dataset_filepath=temp_dir_filepath+\"remaining_triples_no_mw_2.csv\",\n",
    "    filtered_property_types_filepath=filepath_filtered_prop_types,\n",
    "    processed_dataset_filepath=temp_dir_filepath+\"filtered_props_remaining_triples.csv\",\n",
    ")"
   ]
  },
  {
   "cell_type": "markdown",
   "metadata": {},
   "source": [
    "## Filter Entities\n",
    "\n",
    "Not all entities that appear in the datasets containing properties that connect mutually wikilinked entity pairs are also available in the dataset containing the other remaining triples. The goal of this master thesis is to classify relations between mutually wikilinked entity pairs that are already integrated in the graph and are not unknown. This is also reflected in the models that are choosen to predict the relation / property types between a pair of entities. The models that are used to create the knowledge graph embeddings need to have information on other triples in which an entity appears (transductive link prediction). For that reason any pair containing an entity that is not part of the remaining triples dataset is removed from the datasets containing connecting properties of mutually wikilinked entities. Futhermore, entity pairs in the dataset of mutually wikilinked entities without any connecting properties are filtered to only contain pairs where both entities appear in the remaining triples dataset.\n",
    "\n",
    "The same filtering is applied on the entity types dataset, to reduce it to type information on entities that are part of the remaining triples dataset."
   ]
  },
  {
   "cell_type": "code",
   "execution_count": null,
   "metadata": {},
   "outputs": [],
   "source": [
    "# filter enitities of the mutual wikilinks with both-sided properties dataset\n",
    "filter_entities(\n",
    "    dataset_filepath=temp_dir_filepath+\"filtered_props_mw_bs.csv\",\n",
    "    entities_dataset_filepath=temp_dir_filepath+\"filtered_props_remaining_triples.csv\",\n",
    "    processed_dataset_filepath=temp_dir_filepath+\"filtered_entities_mw_bs.csv\",\n",
    "    filter_subject_only=False,\n",
    ")"
   ]
  },
  {
   "cell_type": "code",
   "execution_count": null,
   "metadata": {},
   "outputs": [],
   "source": [
    "# filter enitities of the mutual wikilinks with one-sided properties dataset\n",
    "filter_entities(\n",
    "    dataset_filepath=temp_dir_filepath+\"filtered_props_mw_os.csv\",\n",
    "    entities_dataset_filepath=temp_dir_filepath+\"filtered_props_remaining_triples.csv\",\n",
    "    processed_dataset_filepath=temp_dir_filepath+\"filtered_entities_mw_os.csv\",\n",
    "    filter_subject_only=False,\n",
    ")"
   ]
  },
  {
   "cell_type": "code",
   "execution_count": null,
   "metadata": {},
   "outputs": [],
   "source": [
    "# filter enitities of the mutual wikilinks without connecting properties dataset\n",
    "filter_entities(\n",
    "    dataset_filepath=filepath_mw_no_props,\n",
    "    entities_dataset_filepath=temp_dir_filepath+\"filtered_props_remaining_triples.csv\",\n",
    "    processed_dataset_filepath=results_dir_filepath+\"mw_no_props.csv\",\n",
    "    filter_subject_only=False,\n",
    ")"
   ]
  },
  {
   "cell_type": "code",
   "execution_count": null,
   "metadata": {},
   "outputs": [],
   "source": [
    "# filter enitities of the types dataset\n",
    "filter_entities(\n",
    "    dataset_filepath=filepath_types,\n",
    "    entities_dataset_filepath=temp_dir_filepath+\"filtered_props_remaining_triples.csv\",\n",
    "    processed_dataset_filepath=temp_dir_filepath+\"filtered_entities_types.csv\",\n",
    "    filter_subject_only=True,\n",
    "    dataset_filetype=\"ttl\",\n",
    ")"
   ]
  },
  {
   "cell_type": "markdown",
   "metadata": {},
   "source": [
    "## Create Training, Validation and Testing Datasets\n",
    "\n",
    "To train, validate model settings and test the overall performance the datasets containing connecting properties of mutually wikilinked entities is split into a training, validation and testing set. The data is split so that entity pairs only appear in one of the splits. Individual entities can still appear in more than one split which again reflects the setting of the master thesis in which entities are not completely unknown but the relations between mutually wikilinked pairs are not all classified.\n",
    "\n",
    "After splitting the datasets containing connecting properties between mutually wikilinked properties, the respective splits with both- and one-sided properties are combined. Furthermore the remaining triples and entity types datasets are added to the training set of connecting properties of mutually wikilinked entities to obtain the final training set."
   ]
  },
  {
   "cell_type": "code",
   "execution_count": null,
   "metadata": {},
   "outputs": [],
   "source": [
    "# split dataset containing both-sided properties of mutual wikilinks into train, val and test set\n",
    "split_dataset(\n",
    "    dataset_filepath=temp_dir_filepath+\"filtered_entities_mw_bs.csv\",\n",
    "    trainset_filepath=temp_dir_filepath+\"train_mw_bs.csv\",\n",
    "    valset_filepath=temp_dir_filepath+\"val_mw_bs.csv\",\n",
    "    testset_filepath=temp_dir_filepath+\"test_mw_bs.csv\",\n",
    "    val_test_fraction=5,\n",
    "    random_state=42\n",
    ")                            "
   ]
  },
  {
   "cell_type": "code",
   "execution_count": null,
   "metadata": {},
   "outputs": [],
   "source": [
    "# split dataset containing one-sided properties of mutual wikilinks into train, val and test set\n",
    "split_dataset(\n",
    "    dataset_filepath=temp_dir_filepath+\"filtered_entities_mw_os.csv\",\n",
    "    trainset_filepath=temp_dir_filepath+\"train_mw_os.csv\",\n",
    "    valset_filepath=temp_dir_filepath+\"val_mw_os.csv\",\n",
    "    testset_filepath=temp_dir_filepath+\"test_mw_os.csv\",\n",
    "    val_test_fraction=5,\n",
    "    random_state=42\n",
    ")                            "
   ]
  },
  {
   "cell_type": "code",
   "execution_count": null,
   "metadata": {},
   "outputs": [],
   "source": [
    "# final training set\n",
    "# concatenate training splits of mutual wikilinked entities with both- and one-sided properties, remaining triples and types\n",
    "concat_files(\n",
    "    filepaths=[\n",
    "        temp_dir_filepath+\"filtered_props_remaining_triples.csv\",\n",
    "        temp_dir_filepath+\"filtered_entity_types.csv\",\n",
    "        temp_dir_filepath+\"train_mw_bs.csv\",\n",
    "        temp_dir_filepath+\"train_mw_os.csv\"\n",
    "    ],\n",
    "    filetypes=[\"csv\", \"csv\", \"csv\", \"csv\"],\n",
    "    processed_dataset_filepath=results_dir_filepath+\"train.tsv\"\n",
    ")"
   ]
  },
  {
   "cell_type": "code",
   "execution_count": null,
   "metadata": {},
   "outputs": [],
   "source": [
    "# final validation set\n",
    "# concatenate validation splits of mutual wikilinked entities with both- and one-sided properties\n",
    "concat_files(\n",
    "    filepaths=[\n",
    "        temp_dir_filepath+\"val_mw_bs.csv\",\n",
    "        temp_dir_filepath+\"val_mw_os.csv\"\n",
    "    ],\n",
    "    filetypes=[\"csv\", \"csv\"],\n",
    "    processed_dataset_filepath=results_dir_filepath+\"val.tsv\"\n",
    ")"
   ]
  },
  {
   "cell_type": "code",
   "execution_count": null,
   "metadata": {},
   "outputs": [],
   "source": [
    "# final testing set\n",
    "# concatenate testing splits of mutual wikilinked entities with both- and one-sided properties\n",
    "concat_files(\n",
    "    filepaths=[\n",
    "        temp_dir_filepath+\"test_mw_bs.csv\",\n",
    "        temp_dir_filepath+\"test_mw_os.csv\"\n",
    "    ],\n",
    "    filetypes=[\"csv\", \"csv\"],\n",
    "    processed_dataset_filepath=results_dir_filepath+\"test.tsv\"\n",
    ")"
   ]
  },
  {
   "cell_type": "code",
   "execution_count": null,
   "metadata": {},
   "outputs": [],
   "source": [
    "# remove temporary directory and all temporary files inside\n",
    "shutil.rmtree(temp_dir_filepath)"
   ]
  }
 ],
 "metadata": {
  "kernelspec": {
   "display_name": "base",
   "language": "python",
   "name": "python3"
  },
  "language_info": {
   "codemirror_mode": {
    "name": "ipython",
    "version": 3
   },
   "file_extension": ".py",
   "mimetype": "text/x-python",
   "name": "python",
   "nbconvert_exporter": "python",
   "pygments_lexer": "ipython3",
   "version": "3.9.18"
  }
 },
 "nbformat": 4,
 "nbformat_minor": 2
}
